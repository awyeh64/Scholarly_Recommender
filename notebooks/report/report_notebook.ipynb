{
 "cells": [
  {
   "cell_type": "markdown",
   "metadata": {},
   "source": [
    "# Scholarly Recommender "
   ]
  },
  {
   "cell_type": "markdown",
   "metadata": {},
   "source": [
    "This notebook is showcasing a scholarly recommender model.  The model takes in a string as a keyword, and then uses that string to provide 5 recommended articles and analytics on the scholarly data side of it using visuals."
   ]
  },
  {
   "cell_type": "code",
   "execution_count": 1,
   "metadata": {},
   "outputs": [],
   "source": [
    "import pandas as pd\n",
    "import numpy as np\n",
    "import matplotlib.pyplot as plt\n",
    "import seaborn as sns\n",
    "\n",
    "from sklearn.feature_extraction.text import CountVectorizer, TfidfVectorizer, TfidfTransformer\n",
    "from sklearn.linear_model import LogisticRegression\n",
    "from sklearn.model_selection import train_test_split, GridSearchCV, cross_val_score\n",
    "from sklearn.metrics import accuracy_score, precision_score, recall_score, f1_score, confusion_matrix, plot_confusion_matrix\n",
    "from sklearn.ensemble import RandomForestClassifier\n",
    "\n",
    "from collections import Counter\n",
    "\n",
    "from Bio import Entrez\n",
    "from Bio import Medline\n",
    "from tqdm import tqdm\n",
    "\n",
    "from itertools import combinations\n",
    "import networkx as nx\n",
    "from nxviz.plots import CircosPlot\n",
    "import plotly.express as px\n"
   ]
  },
  {
   "cell_type": "markdown",
   "metadata": {},
   "source": [
    "# Data Scraping and Extraction"
   ]
  },
  {
   "cell_type": "markdown",
   "metadata": {},
   "source": [
    "I will use the entrez python library to pull a collection of documents relating to our pre-set keyword from the NCBI servers and slot them in a dataframe."
   ]
  },
  {
   "cell_type": "code",
   "execution_count": 2,
   "metadata": {},
   "outputs": [],
   "source": [
    "'''\n",
    "Data extraction code referenced from here: https://towardsdatascience.com/network-analysis-to-quickly-get-insight-into-an-academic-field-with-python-cd891717d547\n",
    "\n",
    "input:\n",
    "- a string keyword to search the documents for\n",
    "- a boolean to determine if a csv copy of the document should be saved locally so that I don't have to repull everytime\n",
    "\n",
    "export:\n",
    "- returns a df containing the scholarly data\n",
    "- if save is set to True, a csv file of the pulled data will also be saved in the data folder\n",
    "'''\n",
    "def entrez_pull_df(keyword, save = False):\n",
    "    Entrez.email = \"awyeh450471@gmail.com\"\n",
    "\n",
    "    keyword = keyword\n",
    "\n",
    "    result = Entrez.read(Entrez.esearch(db=\"pubmed\", retmax=10, term=keyword))\n",
    "    print(\n",
    "        \"Total number of publications that contain the term {}: {}\".format(\n",
    "            keyword, result[\"Count\"]\n",
    "        )\n",
    "    )\n",
    "\n",
    "    MAX_COUNT = result[\"Count\"]\n",
    "    result = Entrez.read(\n",
    "        Entrez.esearch(db=\"pubmed\", retmax=result[\"Count\"], term=keyword)\n",
    "    )\n",
    "\n",
    "    ids = result[\"IdList\"]\n",
    "\n",
    "    batch_size = 100\n",
    "    batches = [ids[x: x + 100] for x in range(0, len(ids), batch_size)]\n",
    "\n",
    "    record_list = []\n",
    "    for batch in tqdm(batches):\n",
    "        h = Entrez.efetch(db=\"pubmed\", id=batch, rettype=\"medline\", retmode=\"text\")\n",
    "        records = Medline.parse(h)\n",
    "        record_list.extend(list(records))\n",
    "    print(\"Complete.\")\n",
    "    \n",
    "    df = pd.DataFrame(record_list)\n",
    "    if save == True:\n",
    "        df.to_csv(f'../../data/{keyword}.csv', index = False)\n",
    "    return df"
   ]
  },
  {
   "cell_type": "code",
   "execution_count": null,
   "metadata": {},
   "outputs": [],
   "source": [
    "df_base = entrez_pull_df('hay fever', False)"
   ]
  },
  {
   "cell_type": "markdown",
   "metadata": {},
   "source": [
    "I also have the option of skipping the download process and have the ability of pulling local copies of pre-downloaded databases."
   ]
  },
  {
   "cell_type": "code",
   "execution_count": 3,
   "metadata": {},
   "outputs": [],
   "source": [
    "'''\n",
    "a function to pull data from an existing local csv file\n",
    "\n",
    "input:\n",
    "- a string keyword to search the documents for\n",
    "\n",
    "output:\n",
    "- returns a df containing the scholarly data\n",
    "\n",
    "todo:\n",
    "- add code that checks if the csv exists\n",
    "'''\n",
    "def local_pull_df(keyword):\n",
    "    df = pd.read_csv(f'../../data/{keyword}.csv', low_memory = False)\n",
    "    return df"
   ]
  },
  {
   "cell_type": "code",
   "execution_count": 4,
   "metadata": {},
   "outputs": [],
   "source": [
    "df_base = local_pull_df('hay fever')"
   ]
  },
  {
   "cell_type": "code",
   "execution_count": 8,
   "metadata": {},
   "outputs": [
    {
     "data": {
      "text/plain": [
       "(14439, 77)"
      ]
     },
     "execution_count": 8,
     "metadata": {},
     "output_type": "execute_result"
    }
   ],
   "source": [
    "df_base[df_base['RF'].isna()].shape"
   ]
  },
  {
   "cell_type": "markdown",
   "metadata": {},
   "source": [
    "# Data Preprocessing and Cleaning"
   ]
  },
  {
   "cell_type": "markdown",
   "metadata": {},
   "source": [
    "Column Names and Respective Field Values"
   ]
  },
  {
   "cell_type": "markdown",
   "metadata": {},
   "source": [
    "| Column | Field | Column | Field |\n",
    "|--------|-------|--------|-------|\n",
    "|'AB'|Abstract|'JID'|NLM Unique ID|\n",
    "|'AD'|Affiliation|'JT'|Journal Title|\n",
    "|'AID'|Article Identifier|'LA'|Language|\n",
    "|'AU'|Author|'LID'|Location Identifier|\n",
    "|'AUID'|Author Identifier|'LR'|Date Last Revised|\n",
    "|'BTI'|Book Title|'MHDA'|MeSH Date|\n",
    "|'CDAT'| |'MID'|Manuscript Identifier|\n",
    "|'CI'|Copyright Information|'MH'|MeSH Terms|\n",
    "|'CIN'|Comment In|'OID'|Other ID|\n",
    "|'CN'|Corporate Author|'OT'|Other Term|\n",
    "|'COIS'|Conflict of Interest Statement\n",
    "|'CON'|Comment On|'OWN'|Owner|\n",
    "|'CP'| |'PB'| |\n",
    "|'CRDT'|Create Date|'PG'|Pagination|\n",
    "|'CTDT'| |'PHST'|Publication History Status|\n",
    "|'DA'|Date Created|'PL'|Place of Publication|\n",
    "|'DCOM'|Date Completed|'PMC'|Pubmed Central Identifier|\n",
    "|'DEP'|Date of Electronic Publication|'PMCR'|PubMed Central Release|\n",
    "|'DP'|Date of Publication|'PMID'|PubMed Unique Identifier|\n",
    "|'DRDT'| |'PS'|Personal Name as Subject|\n",
    "|'ECI'|Expression of Concern|'PST'|Publication Status|\n",
    "|'ED'|Editor Name|'PT'|Publication Type|\n",
    "|'EFR'|Erratum For|'RF'|Number of References|\n",
    "|'EIN'|Erratum in|'RIN'|Retraction In|\n",
    "|'EDAT'|Entrez Date|'RN'|Registry Number|\n",
    "|'FAU'|Full Author|'RPF'|Republished From|\n",
    "|'FED'|Full Editor Name|'RPI'|Republished In|\n",
    "|'FIR'|Full Investigator Name|'SB'|Subset|\n",
    "|'FPS'|Full Personal Name as Subject|'SI'|Secondary Source ID|\n",
    "|'GN'|General Note|'SO'|Source|\n",
    "|'GR'|Grant Number|'STAT'|Status|\n",
    "|'GS'|Gene Symbol|'TA'|Journal Title Abbreviation|\n",
    "|'IP'|Issue|'TI'|Title|\n",
    "|'IR'|Investigator Name|'TT'|Transliterated Title|\n",
    "|'IS'|ISSN|'VI'|Volume|\n",
    "|'ISBN'|ISBN|\n"
   ]
  },
  {
   "cell_type": "markdown",
   "metadata": {},
   "source": [
    "For the sake of minimizing clutter and improving visibility, I will only keep the columns that I might need and rename them to something that makes more sense."
   ]
  },
  {
   "cell_type": "code",
   "execution_count": 16,
   "metadata": {},
   "outputs": [],
   "source": [
    "cols = ['TI', 'AU', 'TA', 'EDAT', 'AB', 'MH', 'OT', 'RF', 'PL', 'LA']\n",
    "\n",
    "df = df_base[cols]\n",
    "df.columns = ['title', 'authors', 'journal', 'date', 'abstract', 'mesh_terms', 'other_terms', 'reference_number', 'location', 'language']"
   ]
  },
  {
   "cell_type": "code",
   "execution_count": 17,
   "metadata": {},
   "outputs": [
    {
     "data": {
      "text/html": [
       "<div>\n",
       "<style scoped>\n",
       "    .dataframe tbody tr th:only-of-type {\n",
       "        vertical-align: middle;\n",
       "    }\n",
       "\n",
       "    .dataframe tbody tr th {\n",
       "        vertical-align: top;\n",
       "    }\n",
       "\n",
       "    .dataframe thead th {\n",
       "        text-align: right;\n",
       "    }\n",
       "</style>\n",
       "<table border=\"1\" class=\"dataframe\">\n",
       "  <thead>\n",
       "    <tr style=\"text-align: right;\">\n",
       "      <th></th>\n",
       "      <th>title</th>\n",
       "      <th>authors</th>\n",
       "      <th>journal</th>\n",
       "      <th>date</th>\n",
       "      <th>abstract</th>\n",
       "      <th>mesh_terms</th>\n",
       "      <th>other_terms</th>\n",
       "      <th>reference_number</th>\n",
       "      <th>location</th>\n",
       "      <th>language</th>\n",
       "    </tr>\n",
       "  </thead>\n",
       "  <tbody>\n",
       "    <tr>\n",
       "      <th>0</th>\n",
       "      <td>Headache in girls and boys growing up from age...</td>\n",
       "      <td>['Wijga AH', 'Gehring U', 'van de Putte EM', '...</td>\n",
       "      <td>Pain</td>\n",
       "      <td>2020/11/25 06:00</td>\n",
       "      <td>The striking difference between men and women ...</td>\n",
       "      <td>NaN</td>\n",
       "      <td>NaN</td>\n",
       "      <td>NaN</td>\n",
       "      <td>United States</td>\n",
       "      <td>['eng']</td>\n",
       "    </tr>\n",
       "    <tr>\n",
       "      <th>1</th>\n",
       "      <td>Trajectories of asthma and allergies from 7 ye...</td>\n",
       "      <td>['Bui DS', 'Lodge CJ', 'Perret JL', 'Lowe A', ...</td>\n",
       "      <td>Lancet Respir Med</td>\n",
       "      <td>2020/11/21 06:00</td>\n",
       "      <td>BACKGROUND: Longitudinal trajectories of asthm...</td>\n",
       "      <td>NaN</td>\n",
       "      <td>NaN</td>\n",
       "      <td>NaN</td>\n",
       "      <td>England</td>\n",
       "      <td>['eng']</td>\n",
       "    </tr>\n",
       "    <tr>\n",
       "      <th>2</th>\n",
       "      <td>Risk factors and association with severity of ...</td>\n",
       "      <td>['Sahebjada S', 'Chan E', 'Xie J', 'Snibson GR...</td>\n",
       "      <td>Int Ophthalmol</td>\n",
       "      <td>2020/11/18 06:00</td>\n",
       "      <td>SIGNIFICANCE: Our results show that asthmatic ...</td>\n",
       "      <td>NaN</td>\n",
       "      <td>['Asthma', 'Eczema', 'Hay fever', 'Keratoconus...</td>\n",
       "      <td>NaN</td>\n",
       "      <td>Netherlands</td>\n",
       "      <td>['eng']</td>\n",
       "    </tr>\n",
       "    <tr>\n",
       "      <th>3</th>\n",
       "      <td>NaN</td>\n",
       "      <td>NaN</td>\n",
       "      <td>Arerugi</td>\n",
       "      <td>2020/11/17 06:00</td>\n",
       "      <td>NaN</td>\n",
       "      <td>NaN</td>\n",
       "      <td>['FcepsilonRI', 'bronchial asthma', 'chronic i...</td>\n",
       "      <td>NaN</td>\n",
       "      <td>Japan</td>\n",
       "      <td>['jpn']</td>\n",
       "    </tr>\n",
       "    <tr>\n",
       "      <th>4</th>\n",
       "      <td>Gene Expression Analysis by Real-Time PCR in N...</td>\n",
       "      <td>['Wang M', 'She W', 'Yang J', 'Wang X', 'Zhang...</td>\n",
       "      <td>Int Arch Allergy Immunol</td>\n",
       "      <td>2020/11/11 06:00</td>\n",
       "      <td>BACKGROUND: Epithelial gene expression in alle...</td>\n",
       "      <td>NaN</td>\n",
       "      <td>['Allergic rhinitis', 'Epithelium', 'Nonallerg...</td>\n",
       "      <td>NaN</td>\n",
       "      <td>Switzerland</td>\n",
       "      <td>['eng']</td>\n",
       "    </tr>\n",
       "  </tbody>\n",
       "</table>\n",
       "</div>"
      ],
      "text/plain": [
       "                                               title  \\\n",
       "0  Headache in girls and boys growing up from age...   \n",
       "1  Trajectories of asthma and allergies from 7 ye...   \n",
       "2  Risk factors and association with severity of ...   \n",
       "3                                                NaN   \n",
       "4  Gene Expression Analysis by Real-Time PCR in N...   \n",
       "\n",
       "                                             authors  \\\n",
       "0  ['Wijga AH', 'Gehring U', 'van de Putte EM', '...   \n",
       "1  ['Bui DS', 'Lodge CJ', 'Perret JL', 'Lowe A', ...   \n",
       "2  ['Sahebjada S', 'Chan E', 'Xie J', 'Snibson GR...   \n",
       "3                                                NaN   \n",
       "4  ['Wang M', 'She W', 'Yang J', 'Wang X', 'Zhang...   \n",
       "\n",
       "                    journal              date  \\\n",
       "0                      Pain  2020/11/25 06:00   \n",
       "1         Lancet Respir Med  2020/11/21 06:00   \n",
       "2            Int Ophthalmol  2020/11/18 06:00   \n",
       "3                   Arerugi  2020/11/17 06:00   \n",
       "4  Int Arch Allergy Immunol  2020/11/11 06:00   \n",
       "\n",
       "                                            abstract mesh_terms  \\\n",
       "0  The striking difference between men and women ...        NaN   \n",
       "1  BACKGROUND: Longitudinal trajectories of asthm...        NaN   \n",
       "2  SIGNIFICANCE: Our results show that asthmatic ...        NaN   \n",
       "3                                                NaN        NaN   \n",
       "4  BACKGROUND: Epithelial gene expression in alle...        NaN   \n",
       "\n",
       "                                         other_terms  reference_number  \\\n",
       "0                                                NaN               NaN   \n",
       "1                                                NaN               NaN   \n",
       "2  ['Asthma', 'Eczema', 'Hay fever', 'Keratoconus...               NaN   \n",
       "3  ['FcepsilonRI', 'bronchial asthma', 'chronic i...               NaN   \n",
       "4  ['Allergic rhinitis', 'Epithelium', 'Nonallerg...               NaN   \n",
       "\n",
       "        location language  \n",
       "0  United States  ['eng']  \n",
       "1        England  ['eng']  \n",
       "2    Netherlands  ['eng']  \n",
       "3          Japan  ['jpn']  \n",
       "4    Switzerland  ['eng']  "
      ]
     },
     "execution_count": 17,
     "metadata": {},
     "output_type": "execute_result"
    }
   ],
   "source": [
    "df.head()"
   ]
  },
  {
   "cell_type": "markdown",
   "metadata": {},
   "source": [
    "An issue that is not visible right away is that many columns contains their data in lists that have been saved in the format of strings, such as authors and terms.  Thus I need a way of converting them back into lists in order to use them as such.  I will do some cleaning too while I'm at it as well."
   ]
  },
  {
   "cell_type": "code",
   "execution_count": 116,
   "metadata": {},
   "outputs": [],
   "source": [
    "'''\n",
    "function for cleaning the dataframe values\n",
    "annoyingly enough, most of the values are lists saved in the format of strings so it needs to be remade\n",
    "\n",
    "input:\n",
    "- a string\n",
    "\n",
    "output:\n",
    "- a cleaned version of it, it will be a list of terms where the whitespace between each phrase are underscores\n",
    "'''\n",
    "def clean(x):\n",
    "    punctuation = '*&,\\'-'\n",
    "    s = x.strip('][').split(('\\', '))\n",
    "    s = [w for w in s if w != ', ']\n",
    "    s = [w for w in s if w != '']\n",
    "    s = [w.replace(' ', '_') for w in s]\n",
    "    s = [w.replace('/', ' ') for w in s]\n",
    "    s = [w.lower() for w in s]\n",
    "    s = [w.translate(w.maketrans('', '', punctuation)) for w in s]\n",
    "    return ' '.join(s)\n",
    "\n",
    "'''\n",
    "function for determining the year of the publication\n",
    "\n",
    "input:\n",
    "- string\n",
    "\n",
    "output:\n",
    "- the year in int format\n",
    "'''\n",
    "def year(x):\n",
    "    return int(x[:4])"
   ]
  },
  {
   "cell_type": "code",
   "execution_count": 22,
   "metadata": {},
   "outputs": [],
   "source": [
    "df_clean = df[~df['mesh_terms'].isna() | ~df['other_terms'].isna()].reset_index(drop = True)\n",
    "df_clean.fillna({'title': '', 'authors': '', 'abstract': '', 'mesh_terms': '', 'other_terms': '', 'reference_number': 0}, inplace = True)\n",
    "\n",
    "df_clean['authors'] = df_clean['authors'].apply(clean)\n",
    "df_clean['journal'] = df_clean['journal'].apply(clean)\n",
    "df_clean['location'] = df_clean['location'].apply(clean)\n",
    "df_clean['year'] = df_clean['date'].apply(year)\n",
    "df_clean['language'] = df_clean['language'].apply(clean)\n",
    "df_clean['mh_t'] = df_clean['mesh_terms'].apply(clean)\n",
    "df_clean['ot_t'] = df_clean['other_terms'].apply(clean)\n",
    "df_clean['terms'] = df_clean['mh_t'] + df_clean['ot_t']\n",
    "\n",
    "\n",
    "df_clean.drop(columns = ['date', 'mesh_terms', 'other_terms', 'mh_t', 'ot_t'], inplace = True)"
   ]
  },
  {
   "cell_type": "markdown",
   "metadata": {},
   "source": [
    "Dataframe with cleaned up values, a bit harder to understand but will be usable in future code."
   ]
  },
  {
   "cell_type": "code",
   "execution_count": 23,
   "metadata": {},
   "outputs": [
    {
     "data": {
      "text/html": [
       "<div>\n",
       "<style scoped>\n",
       "    .dataframe tbody tr th:only-of-type {\n",
       "        vertical-align: middle;\n",
       "    }\n",
       "\n",
       "    .dataframe tbody tr th {\n",
       "        vertical-align: top;\n",
       "    }\n",
       "\n",
       "    .dataframe thead th {\n",
       "        text-align: right;\n",
       "    }\n",
       "</style>\n",
       "<table border=\"1\" class=\"dataframe\">\n",
       "  <thead>\n",
       "    <tr style=\"text-align: right;\">\n",
       "      <th></th>\n",
       "      <th>title</th>\n",
       "      <th>authors</th>\n",
       "      <th>journal</th>\n",
       "      <th>abstract</th>\n",
       "      <th>reference_number</th>\n",
       "      <th>location</th>\n",
       "      <th>language</th>\n",
       "      <th>year</th>\n",
       "      <th>terms</th>\n",
       "    </tr>\n",
       "  </thead>\n",
       "  <tbody>\n",
       "    <tr>\n",
       "      <th>0</th>\n",
       "      <td>Risk factors and association with severity of ...</td>\n",
       "      <td>sahebjada_s chan_e xie_j snibson_gr daniell_m ...</td>\n",
       "      <td>int_ophthalmol</td>\n",
       "      <td>SIGNIFICANCE: Our results show that asthmatic ...</td>\n",
       "      <td>0.0</td>\n",
       "      <td>netherlands</td>\n",
       "      <td>eng</td>\n",
       "      <td>2020</td>\n",
       "      <td>asthma eczema hay_fever keratoconus risk_factors</td>\n",
       "    </tr>\n",
       "    <tr>\n",
       "      <th>1</th>\n",
       "      <td></td>\n",
       "      <td></td>\n",
       "      <td>arerugi</td>\n",
       "      <td></td>\n",
       "      <td>0.0</td>\n",
       "      <td>japan</td>\n",
       "      <td>jpn</td>\n",
       "      <td>2020</td>\n",
       "      <td>fcepsilonri bronchial_asthma chronic_idiopathi...</td>\n",
       "    </tr>\n",
       "    <tr>\n",
       "      <th>2</th>\n",
       "      <td>Gene Expression Analysis by Real-Time PCR in N...</td>\n",
       "      <td>wang_m she_w yang_j wang_x zhang_y zhang_x zha...</td>\n",
       "      <td>int_arch_allergy_immunol</td>\n",
       "      <td>BACKGROUND: Epithelial gene expression in alle...</td>\n",
       "      <td>0.0</td>\n",
       "      <td>switzerland</td>\n",
       "      <td>eng</td>\n",
       "      <td>2020</td>\n",
       "      <td>allergic_rhinitis epithelium nonallergic_rhini...</td>\n",
       "    </tr>\n",
       "    <tr>\n",
       "      <th>3</th>\n",
       "      <td>Grass pollen immunotherapy alters chromatin la...</td>\n",
       "      <td>sharif_h acharya_s dhondalay_gkr varricchi_g k...</td>\n",
       "      <td>j_allergy_clin_immunol</td>\n",
       "      <td>BACKGROUND: Allergen-specific immunotherapy (A...</td>\n",
       "      <td>0.0</td>\n",
       "      <td>united_states</td>\n",
       "      <td>eng</td>\n",
       "      <td>2020</td>\n",
       "      <td>atacseq allergy t_follicular_helper_cells t_fo...</td>\n",
       "    </tr>\n",
       "    <tr>\n",
       "      <th>4</th>\n",
       "      <td>Repetitive nasal allergen challenge in allergi...</td>\n",
       "      <td>orban_n jacobson_mr nouriaria_kt durham_sr eif...</td>\n",
       "      <td>clin_exp_allergy</td>\n",
       "      <td>BACKGROUND: Local tissue eosinophilia and Th2-...</td>\n",
       "      <td>0.0</td>\n",
       "      <td>england</td>\n",
       "      <td>eng</td>\n",
       "      <td>2020</td>\n",
       "      <td>allergic angiogenesis early_and_late_phase_res...</td>\n",
       "    </tr>\n",
       "  </tbody>\n",
       "</table>\n",
       "</div>"
      ],
      "text/plain": [
       "                                               title  \\\n",
       "0  Risk factors and association with severity of ...   \n",
       "1                                                      \n",
       "2  Gene Expression Analysis by Real-Time PCR in N...   \n",
       "3  Grass pollen immunotherapy alters chromatin la...   \n",
       "4  Repetitive nasal allergen challenge in allergi...   \n",
       "\n",
       "                                             authors  \\\n",
       "0  sahebjada_s chan_e xie_j snibson_gr daniell_m ...   \n",
       "1                                                      \n",
       "2  wang_m she_w yang_j wang_x zhang_y zhang_x zha...   \n",
       "3  sharif_h acharya_s dhondalay_gkr varricchi_g k...   \n",
       "4  orban_n jacobson_mr nouriaria_kt durham_sr eif...   \n",
       "\n",
       "                    journal  \\\n",
       "0            int_ophthalmol   \n",
       "1                   arerugi   \n",
       "2  int_arch_allergy_immunol   \n",
       "3    j_allergy_clin_immunol   \n",
       "4          clin_exp_allergy   \n",
       "\n",
       "                                            abstract  reference_number  \\\n",
       "0  SIGNIFICANCE: Our results show that asthmatic ...               0.0   \n",
       "1                                                                  0.0   \n",
       "2  BACKGROUND: Epithelial gene expression in alle...               0.0   \n",
       "3  BACKGROUND: Allergen-specific immunotherapy (A...               0.0   \n",
       "4  BACKGROUND: Local tissue eosinophilia and Th2-...               0.0   \n",
       "\n",
       "        location language  year  \\\n",
       "0    netherlands      eng  2020   \n",
       "1          japan      jpn  2020   \n",
       "2    switzerland      eng  2020   \n",
       "3  united_states      eng  2020   \n",
       "4        england      eng  2020   \n",
       "\n",
       "                                               terms  \n",
       "0   asthma eczema hay_fever keratoconus risk_factors  \n",
       "1  fcepsilonri bronchial_asthma chronic_idiopathi...  \n",
       "2  allergic_rhinitis epithelium nonallergic_rhini...  \n",
       "3  atacseq allergy t_follicular_helper_cells t_fo...  \n",
       "4  allergic angiogenesis early_and_late_phase_res...  "
      ]
     },
     "execution_count": 23,
     "metadata": {},
     "output_type": "execute_result"
    }
   ],
   "source": [
    "df_clean.head()"
   ]
  },
  {
   "cell_type": "markdown",
   "metadata": {},
   "source": [
    "# Exploratory Data Analysis"
   ]
  },
  {
   "cell_type": "markdown",
   "metadata": {},
   "source": [
    "A good eda to start with will be to view the top 10 terms in applicable columns.  Since the pandas method value_counts() does not work when the columns contain lists, I will instead concat the values in all rows together and use a Counter() instance to view how many there are.  We will be looking at the top 10 authors, journals, locations, languages, and terms, with 'top 10' determined by how many there are.  With this, we can see which of each metadata term that is more prominent in the dataframe."
   ]
  },
  {
   "cell_type": "code",
   "execution_count": 117,
   "metadata": {},
   "outputs": [],
   "source": [
    "'''\n",
    "using the cleaned up columns, it will count the occurence of each term in all rows\n",
    "\n",
    "input:\n",
    "- a dataframe\n",
    "- a column name\n",
    "\n",
    "output:\n",
    "- an instance of a Counter with the value counts of all terms\n",
    "'''\n",
    "def column_counter(df, col):\n",
    "    s = ' '.join(df[col])\n",
    "    # removes empty strings\n",
    "    s = s.replace('  ', ' ')\n",
    "    return Counter(s.split(' '))"
   ]
  },
  {
   "cell_type": "code",
   "execution_count": 63,
   "metadata": {},
   "outputs": [
    {
     "name": "stdout",
     "output_type": "stream",
     "text": [
      "Top 10 Authors\n",
      "[('ciprandi_g', 152), ('durham_sr', 136), ('bousquet_j', 128), ('canonica_gw', 107), ('naclerio_rm', 107), ('bachert_c', 103), ('meltzer_eo', 103), ('norman_ps', 87), ('lichtenstein_lm', 84), ('klimek_l', 81)]\n",
      "\n",
      "Top 10 Journals\n",
      "[('j_allergy_clin_immunol', 964), ('allergy', 810), ('ann_allergy_asthma_immunol', 510), ('clin_exp_allergy', 501), ('ann_allergy', 497), ('int_arch_allergy_immunol', 275), ('allergol_immunopathol_(madr)', 254), ('allergy_asthma_proc', 254), ('arerugi', 211), ('j_investig_allergol_clin_immunol', 207)]\n",
      "\n",
      "Top 10 Locations\n",
      "[('united_states', 5085), ('england', 2997), ('denmark', 1018), ('germany', 928), ('switzerland', 802), ('spain', 552), ('japan', 501), ('netherlands', 414), ('france', 393), ('poland', 387)]\n",
      "\n",
      "Top 10 Languages\n",
      "[('eng', 12040), ('ger', 843), ('fre', 475), ('jpn', 442), ('rus', 388), ('pol', 297), ('ita', 218), ('spa', 201), ('chi', 163), ('und', 103)]\n",
      "\n",
      "Top 10 Terms\n",
      "[('immunology', 22086), ('humans', 14629), ('rhinitis_allergic_seasonal', 13159), ('therapeutic_use', 7885), ('epidemiology', 7733), ('male', 7113), ('female', 7103), ('adult', 6331), ('drug_therapy', 6094), ('therapy', 5525)]\n"
     ]
    }
   ],
   "source": [
    "print(\"Top 10 Authors\")\n",
    "top10_authors = column_counter(df_clean, 'authors').most_common(10)\n",
    "print(top10_authors)\n",
    "print(\"\\nTop 10 Journals\")\n",
    "top10_journals = column_counter(df_clean, 'journal').most_common(10)\n",
    "print(top10_journals)\n",
    "print(\"\\nTop 10 Locations\")\n",
    "top10_locations = column_counter(df_clean, 'location').most_common(10)\n",
    "print(top10_locations)\n",
    "print(\"\\nTop 10 Languages\")\n",
    "top10_languages = column_counter(df_clean, 'language').most_common(10)\n",
    "print(top10_languages)\n",
    "print(\"\\nTop 10 Terms\")\n",
    "top10_terms = column_counter(df_clean, 'terms').most_common(10)\n",
    "print(top10_terms)"
   ]
  },
  {
   "cell_type": "code",
   "execution_count": 118,
   "metadata": {},
   "outputs": [],
   "source": [
    "'''\n",
    "function for plotting the top 10 terms in the stated column\n",
    "\n",
    "input:\n",
    "- counter instance\n",
    "- title for the plot\n",
    "\n",
    "output:\n",
    "- a plot\n",
    "'''\n",
    "def top10_plots(counter, title):\n",
    "    sns.set(context = 'poster', style = 'white')\n",
    "\n",
    "    x = [x[1] for x in counter]\n",
    "    y = [y[0] for y in counter]\n",
    "    yticks = [y[0].replace('_', ' ').title() for y in counter]\n",
    "    title = title\n",
    "\n",
    "    plt.figure(figsize=(20,10))\n",
    "    ax = sns.barplot(x = x, y = y, orient = 'h', color = '#63d297')\n",
    "    ax.set(yticklabels = yticks, title = title)\n",
    "    sns.despine(top = True, right = True, bottom = False, left = False)"
   ]
  },
  {
   "cell_type": "code",
   "execution_count": 30,
   "metadata": {},
   "outputs": [
    {
     "data": {
      "image/png": "[encoded data removed]",
      "text/plain": [
       "<Figure size 1440x720 with 1 Axes>"
      ]
     },
     "metadata": {},
     "output_type": "display_data"
    }
   ],
   "source": [
    "top10_plots(top10_authors, 'Top 10 Authors by Number of Submissions')"
   ]
  },
  {
   "cell_type": "code",
   "execution_count": 31,
   "metadata": {},
   "outputs": [
    {
     "data": {
      "image/png": "[encoded data removed]",
      "text/plain": [
       "<Figure size 1440x720 with 1 Axes>"
      ]
     },
     "metadata": {},
     "output_type": "display_data"
    }
   ],
   "source": [
    "top10_plots(top10_journals, 'Top 10 Journals by Number of Submissions')"
   ]
  },
  {
   "cell_type": "code",
   "execution_count": 32,
   "metadata": {},
   "outputs": [
    {
     "data": {
      "image/png": "[encoded data removed]",
      "text/plain": [
       "<Figure size 1440x720 with 1 Axes>"
      ]
     },
     "metadata": {},
     "output_type": "display_data"
    }
   ],
   "source": [
    "top10_plots(top10_locations, 'Top 10 Locations by Number of Submissions')"
   ]
  },
  {
   "cell_type": "code",
   "execution_count": 33,
   "metadata": {},
   "outputs": [
    {
     "data": {
      "image/png": "[encoded data removed]",
      "text/plain": [
       "<Figure size 1440x720 with 1 Axes>"
      ]
     },
     "metadata": {},
     "output_type": "display_data"
    }
   ],
   "source": [
    "top10_plots(top10_languages, 'Top 10 Languages by Number of Submissions')"
   ]
  },
  {
   "cell_type": "code",
   "execution_count": 34,
   "metadata": {},
   "outputs": [
    {
     "data": {
      "image/png": "[encoded data removed]",
      "text/plain": [
       "<Figure size 1440x720 with 1 Axes>"
      ]
     },
     "metadata": {},
     "output_type": "display_data"
    }
   ],
   "source": [
    "top10_plots(top10_terms, 'Top 10 Terms')"
   ]
  },
  {
   "cell_type": "markdown",
   "metadata": {},
   "source": [
    "Another thing I can look at is the amount of publications through the last couple decades.  Here we can see that the number of publications rose steadily until 2010, but then quickly plummeted."
   ]
  },
  {
   "cell_type": "code",
   "execution_count": 35,
   "metadata": {},
   "outputs": [
    {
     "data": {
      "text/plain": [
       "<Figure size 1440x720 with 0 Axes>"
      ]
     },
     "metadata": {},
     "output_type": "display_data"
    },
    {
     "data": {
      "image/png": "[encoded data removed]",
      "text/plain": [
       "<Figure size 1260x720 with 1 Axes>"
      ]
     },
     "metadata": {},
     "output_type": "display_data"
    }
   ],
   "source": [
    "sns.set(context = 'poster', style = 'white')\n",
    "\n",
    "x = df_clean['year'].sort_values(ascending = True)\n",
    "xlabel = ''\n",
    "ylabel = ''\n",
    "yticks = ''\n",
    "title = 'Number of Publications per Year'\n",
    "\n",
    "plt.figure(figsize=(20,10))\n",
    "ax = sns.displot(data = x, kind = 'kde', color = '#63d297', aspect = 1.75, height = 10)\n",
    "ax.set_xticklabels(rotation=90)\n",
    "ax.set(xlabel = xlabel, yticklabels = yticks, ylabel = ylabel, xlim = (1940, 2020), title = title)\n",
    "\n",
    "plt.show()"
   ]
  },
  {
   "cell_type": "markdown",
   "metadata": {},
   "source": [
    "# Data Inputing with Categorical Modeling"
   ]
  },
  {
   "cell_type": "markdown",
   "metadata": {},
   "source": [
    "I want to recommend documents that are significant, and the best way to do so is by looking at their reference number.  However, a large number of documents in our dataframe have missing values as their reference numbers, so I want to fill them in as I do not want to disregard documents just because they aren't popular.  I will use NLP to read the terms and use a classification model to determine whether or not they can be considered significant enough for us to use.  In terms of metric, I will mainly care about the metric 'precision', due to the fact that as I want to ensure that the documents I acknowledge are truly significant."
   ]
  },
  {
   "cell_type": "markdown",
   "metadata": {},
   "source": [
    "First I separate our dataframe into two, with one dataframe containing rows with a reference number and the other wiithout.  This will conveniently become our Training and Testing datasets."
   ]
  },
  {
   "cell_type": "code",
   "execution_count": 36,
   "metadata": {},
   "outputs": [],
   "source": [
    "df_rf = df_clean[df_clean['reference_number'] > 0].reset_index(drop = True)\n",
    "df_no_rf = df_clean[df_clean['reference_number'] == 0].reset_index(drop = True)"
   ]
  },
  {
   "cell_type": "markdown",
   "metadata": {},
   "source": [
    "Next I turn our reference numbers into labels, by labeling any row with a reference number over a certain threshold as '1' for significant, and '0' otherwise."
   ]
  },
  {
   "cell_type": "code",
   "execution_count": 120,
   "metadata": {},
   "outputs": [],
   "source": [
    "'''\n",
    "function for setting the target value; I will consider any document with a reference number \n",
    "over the threshold as being significant with the label '1', and anything else with a label '0'\n",
    "\n",
    "input:\n",
    "- int/float as the reference number\n",
    "\n",
    "output:\n",
    "- int of 0 or 1 as its label\n",
    "'''\n",
    "def relevant_labeling(rf):\n",
    "    if rf > df_rf['reference_number'].describe()['25%']:\n",
    "        return 1\n",
    "    else:\n",
    "        return 0\n",
    "    \n",
    "df_rf['relevant'] = df_rf['reference_number'].map(relevant_labeling)"
   ]
  },
  {
   "cell_type": "markdown",
   "metadata": {},
   "source": [
    "For the MVP, I will only use the 'terms' as the input of our model; I set that as X while setting our target variable 'relevant' as y."
   ]
  },
  {
   "cell_type": "code",
   "execution_count": 38,
   "metadata": {},
   "outputs": [],
   "source": [
    "X = df_rf['terms']\n",
    "y = df_rf['relevant']\n",
    "\n",
    "X_train, X_test, y_train, y_test = train_test_split(X, y, random_state = 42, test_size = 0.25)"
   ]
  },
  {
   "cell_type": "markdown",
   "metadata": {},
   "source": [
    "Then I use a count vectorizer to turn our rows of terms into rows of token counts.  This will be our input for our model."
   ]
  },
  {
   "cell_type": "code",
   "execution_count": 39,
   "metadata": {},
   "outputs": [],
   "source": [
    "cv = CountVectorizer()\n",
    "X_train_cv = cv.fit_transform(X_train)\n",
    "X_train_cv = pd.DataFrame.sparse.from_spmatrix(X_train_cv)\n",
    "X_train_cv.columns = sorted(cv.vocabulary_)\n",
    "\n",
    "X_test_cv = cv.transform(X_test)\n",
    "X_test_cv = pd.DataFrame.sparse.from_spmatrix(X_test_cv)\n",
    "X_test_cv.columns = sorted(cv.vocabulary_)"
   ]
  },
  {
   "cell_type": "markdown",
   "metadata": {},
   "source": [
    "I start with a basic Linear Regression model."
   ]
  },
  {
   "cell_type": "code",
   "execution_count": 40,
   "metadata": {},
   "outputs": [
    {
     "name": "stdout",
     "output_type": "stream",
     "text": [
      "0.7085889570552147\n",
      "0.7680608365019012\n",
      "0.8559322033898306\n",
      "0.8096192384769539\n"
     ]
    }
   ],
   "source": [
    "lr1 = LogisticRegression(max_iter=10000)\n",
    "lr1.fit(X_train_cv, y_train)\n",
    "\n",
    "y_pred1 = lr1.predict(X_test_cv)\n",
    "print(accuracy_score(y_test, y_pred1))\n",
    "print(precision_score(y_test, y_pred1))\n",
    "print(recall_score(y_test, y_pred1))\n",
    "print(f1_score(y_test, y_pred1))"
   ]
  },
  {
   "cell_type": "markdown",
   "metadata": {},
   "source": [
    "Then using gridsearch, I attempt to hyperparameter tune linear regression to get a better version."
   ]
  },
  {
   "cell_type": "code",
   "execution_count": null,
   "metadata": {},
   "outputs": [],
   "source": [
    "param_grid = {\n",
    "    'max_iter': [10000],\n",
    "    'solver': ['liblinear', 'sag'],\n",
    "    'penalty': ['l1', 'l2', 'elasticnet'],\n",
    "    'C': [10, 1.0, 0.1],\n",
    "    'tol': [0.0001, 0.1, 1, 100]\n",
    "}\n",
    "\n",
    "gs1 = GridSearchCV(LogisticRegression(), param_grid)\n",
    "gs1.fit(X_train_cv, y_train)"
   ]
  },
  {
   "cell_type": "code",
   "execution_count": null,
   "metadata": {},
   "outputs": [],
   "source": [
    "gs1.best_estimator_"
   ]
  },
  {
   "cell_type": "markdown",
   "metadata": {},
   "source": [
    "Will not show the results of the grid search in the report notebook, but the best estimator that is given is used below."
   ]
  },
  {
   "cell_type": "code",
   "execution_count": 41,
   "metadata": {},
   "outputs": [
    {
     "name": "stdout",
     "output_type": "stream",
     "text": [
      "0.6993865030674846\n",
      "0.7395833333333334\n",
      "0.902542372881356\n",
      "0.8129770992366412\n"
     ]
    }
   ],
   "source": [
    "lr2 = LogisticRegression(C=1.0, class_weight=None, dual=False, fit_intercept=True,\n",
    "                   intercept_scaling=1, l1_ratio=None, max_iter=10000,\n",
    "                   multi_class='auto', n_jobs=None, penalty='l1',\n",
    "                   random_state=None, solver='liblinear', tol=0.1, verbose=0,\n",
    "                   warm_start=False)\n",
    "\n",
    "lr2.fit(X_train_cv, y_train)\n",
    "y_pred2 = lr2.predict(X_test_cv)\n",
    "print(accuracy_score(y_test, y_pred2))\n",
    "print(precision_score(y_test, y_pred2))\n",
    "print(recall_score(y_test, y_pred2))\n",
    "print(f1_score(y_test, y_pred2))"
   ]
  },
  {
   "cell_type": "markdown",
   "metadata": {},
   "source": [
    "Recall and F1 score has gone up, but precision has gone down.  Since I only care about precision, I won't use this."
   ]
  },
  {
   "cell_type": "markdown",
   "metadata": {},
   "source": [
    "Next I will try it with a tfidf vectorizer instead of a count vectorizer."
   ]
  },
  {
   "cell_type": "code",
   "execution_count": 44,
   "metadata": {},
   "outputs": [],
   "source": [
    "tfidf = TfidfVectorizer()\n",
    "X_train_tfidf = tfidf.fit_transform(X_train)\n",
    "X_train_tfidf = pd.DataFrame.sparse.from_spmatrix(X_train_tfidf)\n",
    "X_train_tfidf.columns = sorted(cv.vocabulary_)\n",
    "\n",
    "X_test_tfidf = tfidf.transform(X_test)\n",
    "X_test_tfidf = pd.DataFrame.sparse.from_spmatrix(X_test_tfidf)\n",
    "X_test_tfidf.columns = sorted(tfidf.vocabulary_)"
   ]
  },
  {
   "cell_type": "code",
   "execution_count": 46,
   "metadata": {},
   "outputs": [
    {
     "name": "stdout",
     "output_type": "stream",
     "text": [
      "0.7300613496932515\n",
      "0.7371794871794872\n",
      "0.9745762711864406\n",
      "0.8394160583941606\n"
     ]
    }
   ],
   "source": [
    "lr3 = LogisticRegression(max_iter=10000)\n",
    "lr3.fit(X_train_tfidf, y_train)\n",
    "\n",
    "y_pred3 = lr3.predict(X_test_tfidf)\n",
    "print(accuracy_score(y_test, y_pred3))\n",
    "print(precision_score(y_test, y_pred3))\n",
    "print(recall_score(y_test, y_pred3))\n",
    "print(f1_score(y_test, y_pred3))"
   ]
  },
  {
   "cell_type": "markdown",
   "metadata": {},
   "source": [
    "Precision has gone down again; thus I will stick with our first model."
   ]
  },
  {
   "cell_type": "markdown",
   "metadata": {},
   "source": [
    "\n",
    "# Content Based Recommender System with Cosine Similarities"
   ]
  },
  {
   "cell_type": "markdown",
   "metadata": {},
   "source": [
    "With our chosen model, I will then go through the dataframe of rows without reference numbers and give them a label of whether or not they can be considered significant enough to be recommended."
   ]
  },
  {
   "cell_type": "code",
   "execution_count": 47,
   "metadata": {},
   "outputs": [],
   "source": [
    "X_no_rf = cv.transform(df_no_rf['terms'])\n",
    "y_pred_rf = lr1.predict(X_no_rf)\n",
    "df_no_rf['relevant'] = y_pred_rf"
   ]
  },
  {
   "cell_type": "markdown",
   "metadata": {},
   "source": [
    "I can then combine both the dataframe with reference numbers and the dataframe without reference numbers into one, final dataframe.  After that, I can quickly sort out the non-relevant documents too by filtering out the rows with a label of '0'."
   ]
  },
  {
   "cell_type": "code",
   "execution_count": 48,
   "metadata": {},
   "outputs": [],
   "source": [
    "df_final = pd.concat([df_rf, df_no_rf])\n",
    "df_final = df_final[df_final['relevant'] == 1]"
   ]
  },
  {
   "cell_type": "markdown",
   "metadata": {},
   "source": [
    "Next I sorted the rows by reference number and found the most significant one based on which row had the highest amount.  I then set that as the best document and then will proceed to base my future recommendations on it."
   ]
  },
  {
   "cell_type": "code",
   "execution_count": 49,
   "metadata": {},
   "outputs": [],
   "source": [
    "df_final = df_final.sort_values(by = ['reference_number'], ascending = False).reset_index(drop = True)\n",
    "best = df_final.iloc[0]"
   ]
  },
  {
   "cell_type": "code",
   "execution_count": 50,
   "metadata": {},
   "outputs": [
    {
     "data": {
      "text/plain": [
       "title               Allergic Rhinitis and its Impact on Asthma (AR...\n",
       "authors             bousquet_j khaltaev_n cruz_aa denburg_j fokken...\n",
       "journal                                                       allergy\n",
       "abstract                                                             \n",
       "reference_number                                                 2241\n",
       "location                                                      denmark\n",
       "language                                                          eng\n",
       "year                                                             2008\n",
       "terms               adolescent asthma epidemiology etiology therap...\n",
       "relevant                                                            1\n",
       "Name: 0, dtype: object"
      ]
     },
     "execution_count": 50,
     "metadata": {},
     "output_type": "execute_result"
    }
   ],
   "source": [
    "best"
   ]
  },
  {
   "cell_type": "markdown",
   "metadata": {},
   "source": [
    "I use count vectorizer yet again on the terms, and then perform cosine similarity on it to find the rows that are the most similar to my best document."
   ]
  },
  {
   "cell_type": "code",
   "execution_count": 51,
   "metadata": {},
   "outputs": [],
   "source": [
    "cv = CountVectorizer()\n",
    "X_cv = cv.fit_transform(df_final['terms'])\n",
    "X_cv = pd.DataFrame.sparse.from_spmatrix(X_cv)\n",
    "X_cv.columns = sorted(cv.vocabulary_)\n",
    "X_cv = X_cv.to_numpy()"
   ]
  },
  {
   "cell_type": "code",
   "execution_count": 52,
   "metadata": {},
   "outputs": [],
   "source": [
    "numerators = np.array([X_cv[0].dot(i) for i in X_cv[1:]])\n",
    "denominators = np.array([np.sqrt(sum(X_cv[0]**2)) *\\\n",
    "                         np.sqrt(sum(i**2)) for i in X_cv[1:]])\n",
    "\n",
    "results_cv = numerators / denominators"
   ]
  },
  {
   "cell_type": "markdown",
   "metadata": {},
   "source": [
    "A higher cosine similarity means that the document is more similar, so I will take the rows with the top 4 cosine similarity value."
   ]
  },
  {
   "cell_type": "code",
   "execution_count": 53,
   "metadata": {},
   "outputs": [
    {
     "name": "stdout",
     "output_type": "stream",
     "text": [
      "Top 4 Cosine Similarity Scores\n",
      "[0.79203    0.79314397 0.83827364 0.79850937]\n",
      "\n",
      "Index of the Documents:\n",
      "[ 9625  5816   166 10295]\n"
     ]
    }
   ],
   "source": [
    "ind = np.argpartition(results_cv, -4)[-4:]\n",
    "print('Top 4 Cosine Similarity Scores')\n",
    "print(results_cv[ind])\n",
    "print('\\nIndex of the Documents:')\n",
    "print(ind)\n"
   ]
  },
  {
   "cell_type": "markdown",
   "metadata": {},
   "source": [
    "The following is some code to help visualize our findings."
   ]
  },
  {
   "cell_type": "code",
   "execution_count": 55,
   "metadata": {},
   "outputs": [],
   "source": [
    "ti = df_final.iloc[ind]['title'].reset_index(drop = True)\n",
    "au = df_final.iloc[ind]['authors'].reset_index(drop = True)\n",
    "jor = df_final.iloc[ind]['journal'].reset_index(drop = True)\n",
    "loc = df_final.iloc[ind]['location'].reset_index(drop = True)\n",
    "lan = df_final.iloc[ind]['language'].reset_index(drop = True)\n",
    "yr = df_final.iloc[ind]['year'].reset_index(drop = True)"
   ]
  },
  {
   "cell_type": "code",
   "execution_count": 56,
   "metadata": {},
   "outputs": [
    {
     "name": "stdout",
     "output_type": "stream",
     "text": [
      "\n",
      "Best Article:\n",
      "\n",
      "Title: Allergic Rhinitis and its Impact on Asthma (ARIA) 2008 update (in collaboration with the World Health Organization, GA(2)LEN and AllerGen).\n",
      "Author(s): bousquet_j khaltaev_n cruz_aa denburg_j fokkens_wj togias_a zuberbier_t baenacagnani_ce canonica_gw van_weel_c agache_i aitkhaled_n bachert_c blaiss_ms bonini_s boulet_lp bousquet_pj camargos_p carlsen_kh chen_y custovic_a dahl_r demoly_p douagui_h durham_sr van_wijk_rg kalayci_o kaliner_ma kim_yy kowalski_ml kuna_p le_lt lemiere_c li_j lockey_rf mavalemanuel_s meltzer_eo mohammad_y mullol_j naclerio_r \"ohehir_re\"_ohta_k ouedraogo_s palkonen_s papadopoulos_n passalacqua_g pawankar_r popov_ta rabe_kf rosadopinto_j scadding_gk simons_fe toskala_e valovirta_e van_cauwenberge_p wang_dy wickman_m yawn_bp yorgancioglu_a yusuf_om zar_h annesimaesano_i bateman_ed ben_kheder_a boakye_da bouchard_j burney_p busse_ww chanyeung_m chavannes_nh chuchalin_a dolen_wk emuzyte_r grouse_l humbert_m jackson_c johnston_sl keith_pk kemp_jp klossek_jm larenaslinnemann_d lipworth_b malo_jl marshall_gd naspitz_c nekam_k niggemann_b nizankowskamogilnicka_e okamoto_y orru_mp potter_p price_d stoloff_sw vandenplas_o viegi_g williams_d\n",
      "Journal: allergy\n",
      "Location: denmark\n",
      "Language: eng\n",
      "Year: 2008\n",
      "\n",
      "\n",
      "4 Further Recommended:\n",
      "\n",
      "Title: Local allergic rhinitis: concept, clinical manifestations, and diagnostic approach.\n",
      "Author(s): rondon_c fernandez_j canto_g blanca_m\n",
      "Journal: j_investig_allergol_clin_immunol\n",
      "Location: spain\n",
      "Language: eng\n",
      "Year: 2010\n",
      "\n",
      "\n",
      "Title: Managing hay fever during the exam period.\n",
      "Author(s): pearce_l\n",
      "Journal: nurs_times\n",
      "Location: england\n",
      "Language: eng\n",
      "Year: 2013\n",
      "\n",
      "\n",
      "Title: Otitis media and eustachian tube dysfunction: connection to allergic rhinitis.\n",
      "Author(s): fireman_p\n",
      "Journal: j_allergy_clin_immunol\n",
      "Location: united_states\n",
      "Language: eng\n",
      "Year: 1997\n",
      "\n",
      "\n",
      "Title: [Prevalence of asthma, respiratory symptoms and allergic disorders among adolescents in the province of Aquila].\n",
      "Author(s): mattei_a angelone_am di_stefano_r sbarbati_m cialfi_d di_orio_f\n",
      "Journal: epidemiol_prev\n",
      "Location: italy\n",
      "Language: ita\n",
      "Year: 2008\n",
      "\n",
      "\n"
     ]
    }
   ],
   "source": [
    "print('\\nBest Article:\\n')\n",
    "print(\"Title: \" + best['title'])\n",
    "print(\"Author(s): \" + best['authors'])\n",
    "print(\"Journal: \" + best['journal'])\n",
    "print(\"Location: \" + best['location'])\n",
    "print(\"Language: \" + best['language'])\n",
    "print(\"Year: \" + str(best['year']))\n",
    "\n",
    "print('\\n\\n4 Further Recommended:\\n')\n",
    "\n",
    "for x in range(0,4):\n",
    "    print(\"Title: \" + ti[x])\n",
    "    print(\"Author(s): \" + au[x])\n",
    "    print(\"Journal: \" + jor[x])\n",
    "    print(\"Location: \" + loc[x])\n",
    "    print(\"Language: \" + lan[x])\n",
    "    print(\"Year: \" + str(yr[x]))\n",
    "    print(\"\\n\")"
   ]
  },
  {
   "cell_type": "markdown",
   "metadata": {},
   "source": [
    "# Explanatory Data Analysis"
   ]
  },
  {
   "cell_type": "markdown",
   "metadata": {},
   "source": [
    "Explanatory data analysis is analysis and visualizing the results."
   ]
  },
  {
   "cell_type": "markdown",
   "metadata": {},
   "source": [
    "CHANGE LATER => As this wasn't required for the MVP, this will be considered stretch goals and polish; for now I just have a sunburst plot that showcases the journals that published the recommended articles above, as well as the top 5 authors that work for them based on number of publications."
   ]
  },
  {
   "cell_type": "code",
   "execution_count": 74,
   "metadata": {},
   "outputs": [],
   "source": [
    "one = [best['journal'].replace('_', ' ').title(), [x[0].replace('_', ' ').title() for x in column_counter(df_final[df_final['journal'] == best['journal']], 'authors' ).most_common(5)]]\n",
    "two = [jor[0].replace('_', ' ').title(), [x[0].replace('_', ' ').title() for x in column_counter(df_final[df_final['journal'] == jor[0]], 'authors' ).most_common(5)]]\n",
    "three = [jor[1].replace('_', ' ').title(), [x[0].replace('_', ' ').title() for x in column_counter(df_final[df_final['journal'] == jor[1]], 'authors' ).most_common(5)]]\n",
    "four = [jor[2].replace('_', ' ').title(), [x[0].replace('_', ' ').title() for x in column_counter(df_final[df_final['journal'] == jor[2]], 'authors' ).most_common(5)]]\n",
    "five = [jor[3].replace('_', ' ').title(), [x[0].replace('_', ' ').title() for x in column_counter(df_final[df_final['journal'] == jor[3]], 'authors' ).most_common(5)]]"
   ]
  },
  {
   "cell_type": "code",
   "execution_count": 113,
   "metadata": {},
   "outputs": [
    {
     "data": {
      "application/vnd.plotly.v1+json": {
       "config": {
        "plotlyServerURL": "https://plot.ly"
       },
       "data": [
        {
         "domain": {
          "x": [
           0,
           1
          ],
          "y": [
           0,
           1
          ]
         },
         "hovertemplate": "character=%{label}<br>parent=%{parent}<extra></extra>",
         "labels": [
          "Allergy",
          "J Investig Allergol Clin Immunol",
          "Nurs Times",
          "J Allergy Clin Immunol",
          "Epidemiol Prev",
          "Bousquet J",
          "Canonica Gw",
          "Bachert C",
          "Durham Sr",
          "Passalacqua G",
          "Valero A",
          "Bartra J",
          "Davila I",
          "Mullol J",
          "Sastre J",
          "Pearce L",
          "Potterton D",
          "Frankland Aw",
          "Watson Rt",
          "Scadding Gk",
          "Durham Sr",
          "Norman Ps",
          "Lichtenstein Lm",
          "Valenta R",
          "Meltzer Eo",
          "Mattei A",
          "Angelone Am",
          "Di Stefano R",
          "Sbarbati M",
          "Cialfi D"
         ],
         "name": "",
         "parents": [
          "",
          "",
          "",
          "",
          "",
          "Allergy",
          "Allergy",
          "Allergy",
          "Allergy",
          "Allergy",
          "J Investig Allergol Clin Immunol",
          "J Investig Allergol Clin Immunol",
          "J Investig Allergol Clin Immunol",
          "J Investig Allergol Clin Immunol",
          "J Investig Allergol Clin Immunol",
          "Nurs Times",
          "Nurs Times",
          "Nurs Times",
          "Nurs Times",
          "Nurs Times",
          "J Allergy Clin Immunol",
          "J Allergy Clin Immunol",
          "J Allergy Clin Immunol",
          "J Allergy Clin Immunol",
          "J Allergy Clin Immunol",
          "Epidemiol Prev",
          "Epidemiol Prev",
          "Epidemiol Prev",
          "Epidemiol Prev",
          "Epidemiol Prev"
         ],
         "type": "sunburst"
        }
       ],
       "layout": {
        "legend": {
         "tracegroupgap": 0
        },
        "margin": {
         "b": 40,
         "l": 40,
         "r": 40,
         "t": 40
        },
        "template": {
         "data": {
          "bar": [
           {
            "error_x": {
             "color": "#2a3f5f"
            },
            "error_y": {
             "color": "#2a3f5f"
            },
            "marker": {
             "line": {
              "color": "#E5ECF6",
              "width": 0.5
             }
            },
            "type": "bar"
           }
          ],
          "barpolar": [
           {
            "marker": {
             "line": {
              "color": "#E5ECF6",
              "width": 0.5
             }
            },
            "type": "barpolar"
           }
          ],
          "carpet": [
           {
            "aaxis": {
             "endlinecolor": "#2a3f5f",
             "gridcolor": "white",
             "linecolor": "white",
             "minorgridcolor": "white",
             "startlinecolor": "#2a3f5f"
            },
            "baxis": {
             "endlinecolor": "#2a3f5f",
             "gridcolor": "white",
             "linecolor": "white",
             "minorgridcolor": "white",
             "startlinecolor": "#2a3f5f"
            },
            "type": "carpet"
           }
          ],
          "choropleth": [
           {
            "colorbar": {
             "outlinewidth": 0,
             "ticks": ""
            },
            "type": "choropleth"
           }
          ],
          "contour": [
           {
            "colorbar": {
             "outlinewidth": 0,
             "ticks": ""
            },
            "colorscale": [
             [
              0,
              "#0d0887"
             ],
             [
              0.1111111111111111,
              "#46039f"
             ],
             [
              0.2222222222222222,
              "#7201a8"
             ],
             [
              0.3333333333333333,
              "#9c179e"
             ],
             [
              0.4444444444444444,
              "#bd3786"
             ],
             [
              0.5555555555555556,
              "#d8576b"
             ],
             [
              0.6666666666666666,
              "#ed7953"
             ],
             [
              0.7777777777777778,
              "#fb9f3a"
             ],
             [
              0.8888888888888888,
              "#fdca26"
             ],
             [
              1,
              "#f0f921"
             ]
            ],
            "type": "contour"
           }
          ],
          "contourcarpet": [
           {
            "colorbar": {
             "outlinewidth": 0,
             "ticks": ""
            },
            "type": "contourcarpet"
           }
          ],
          "heatmap": [
           {
            "colorbar": {
             "outlinewidth": 0,
             "ticks": ""
            },
            "colorscale": [
             [
              0,
              "#0d0887"
             ],
             [
              0.1111111111111111,
              "#46039f"
             ],
             [
              0.2222222222222222,
              "#7201a8"
             ],
             [
              0.3333333333333333,
              "#9c179e"
             ],
             [
              0.4444444444444444,
              "#bd3786"
             ],
             [
              0.5555555555555556,
              "#d8576b"
             ],
             [
              0.6666666666666666,
              "#ed7953"
             ],
             [
              0.7777777777777778,
              "#fb9f3a"
             ],
             [
              0.8888888888888888,
              "#fdca26"
             ],
             [
              1,
              "#f0f921"
             ]
            ],
            "type": "heatmap"
           }
          ],
          "heatmapgl": [
           {
            "colorbar": {
             "outlinewidth": 0,
             "ticks": ""
            },
            "colorscale": [
             [
              0,
              "#0d0887"
             ],
             [
              0.1111111111111111,
              "#46039f"
             ],
             [
              0.2222222222222222,
              "#7201a8"
             ],
             [
              0.3333333333333333,
              "#9c179e"
             ],
             [
              0.4444444444444444,
              "#bd3786"
             ],
             [
              0.5555555555555556,
              "#d8576b"
             ],
             [
              0.6666666666666666,
              "#ed7953"
             ],
             [
              0.7777777777777778,
              "#fb9f3a"
             ],
             [
              0.8888888888888888,
              "#fdca26"
             ],
             [
              1,
              "#f0f921"
             ]
            ],
            "type": "heatmapgl"
           }
          ],
          "histogram": [
           {
            "marker": {
             "colorbar": {
              "outlinewidth": 0,
              "ticks": ""
             }
            },
            "type": "histogram"
           }
          ],
          "histogram2d": [
           {
            "colorbar": {
             "outlinewidth": 0,
             "ticks": ""
            },
            "colorscale": [
             [
              0,
              "#0d0887"
             ],
             [
              0.1111111111111111,
              "#46039f"
             ],
             [
              0.2222222222222222,
              "#7201a8"
             ],
             [
              0.3333333333333333,
              "#9c179e"
             ],
             [
              0.4444444444444444,
              "#bd3786"
             ],
             [
              0.5555555555555556,
              "#d8576b"
             ],
             [
              0.6666666666666666,
              "#ed7953"
             ],
             [
              0.7777777777777778,
              "#fb9f3a"
             ],
             [
              0.8888888888888888,
              "#fdca26"
             ],
             [
              1,
              "#f0f921"
             ]
            ],
            "type": "histogram2d"
           }
          ],
          "histogram2dcontour": [
           {
            "colorbar": {
             "outlinewidth": 0,
             "ticks": ""
            },
            "colorscale": [
             [
              0,
              "#0d0887"
             ],
             [
              0.1111111111111111,
              "#46039f"
             ],
             [
              0.2222222222222222,
              "#7201a8"
             ],
             [
              0.3333333333333333,
              "#9c179e"
             ],
             [
              0.4444444444444444,
              "#bd3786"
             ],
             [
              0.5555555555555556,
              "#d8576b"
             ],
             [
              0.6666666666666666,
              "#ed7953"
             ],
             [
              0.7777777777777778,
              "#fb9f3a"
             ],
             [
              0.8888888888888888,
              "#fdca26"
             ],
             [
              1,
              "#f0f921"
             ]
            ],
            "type": "histogram2dcontour"
           }
          ],
          "mesh3d": [
           {
            "colorbar": {
             "outlinewidth": 0,
             "ticks": ""
            },
            "type": "mesh3d"
           }
          ],
          "parcoords": [
           {
            "line": {
             "colorbar": {
              "outlinewidth": 0,
              "ticks": ""
             }
            },
            "type": "parcoords"
           }
          ],
          "pie": [
           {
            "automargin": true,
            "type": "pie"
           }
          ],
          "scatter": [
           {
            "marker": {
             "colorbar": {
              "outlinewidth": 0,
              "ticks": ""
             }
            },
            "type": "scatter"
           }
          ],
          "scatter3d": [
           {
            "line": {
             "colorbar": {
              "outlinewidth": 0,
              "ticks": ""
             }
            },
            "marker": {
             "colorbar": {
              "outlinewidth": 0,
              "ticks": ""
             }
            },
            "type": "scatter3d"
           }
          ],
          "scattercarpet": [
           {
            "marker": {
             "colorbar": {
              "outlinewidth": 0,
              "ticks": ""
             }
            },
            "type": "scattercarpet"
           }
          ],
          "scattergeo": [
           {
            "marker": {
             "colorbar": {
              "outlinewidth": 0,
              "ticks": ""
             }
            },
            "type": "scattergeo"
           }
          ],
          "scattergl": [
           {
            "marker": {
             "colorbar": {
              "outlinewidth": 0,
              "ticks": ""
             }
            },
            "type": "scattergl"
           }
          ],
          "scattermapbox": [
           {
            "marker": {
             "colorbar": {
              "outlinewidth": 0,
              "ticks": ""
             }
            },
            "type": "scattermapbox"
           }
          ],
          "scatterpolar": [
           {
            "marker": {
             "colorbar": {
              "outlinewidth": 0,
              "ticks": ""
             }
            },
            "type": "scatterpolar"
           }
          ],
          "scatterpolargl": [
           {
            "marker": {
             "colorbar": {
              "outlinewidth": 0,
              "ticks": ""
             }
            },
            "type": "scatterpolargl"
           }
          ],
          "scatterternary": [
           {
            "marker": {
             "colorbar": {
              "outlinewidth": 0,
              "ticks": ""
             }
            },
            "type": "scatterternary"
           }
          ],
          "surface": [
           {
            "colorbar": {
             "outlinewidth": 0,
             "ticks": ""
            },
            "colorscale": [
             [
              0,
              "#0d0887"
             ],
             [
              0.1111111111111111,
              "#46039f"
             ],
             [
              0.2222222222222222,
              "#7201a8"
             ],
             [
              0.3333333333333333,
              "#9c179e"
             ],
             [
              0.4444444444444444,
              "#bd3786"
             ],
             [
              0.5555555555555556,
              "#d8576b"
             ],
             [
              0.6666666666666666,
              "#ed7953"
             ],
             [
              0.7777777777777778,
              "#fb9f3a"
             ],
             [
              0.8888888888888888,
              "#fdca26"
             ],
             [
              1,
              "#f0f921"
             ]
            ],
            "type": "surface"
           }
          ],
          "table": [
           {
            "cells": {
             "fill": {
              "color": "#EBF0F8"
             },
             "line": {
              "color": "white"
             }
            },
            "header": {
             "fill": {
              "color": "#C8D4E3"
             },
             "line": {
              "color": "white"
             }
            },
            "type": "table"
           }
          ]
         },
         "layout": {
          "annotationdefaults": {
           "arrowcolor": "#2a3f5f",
           "arrowhead": 0,
           "arrowwidth": 1
          },
          "coloraxis": {
           "colorbar": {
            "outlinewidth": 0,
            "ticks": ""
           }
          },
          "colorscale": {
           "diverging": [
            [
             0,
             "#8e0152"
            ],
            [
             0.1,
             "#c51b7d"
            ],
            [
             0.2,
             "#de77ae"
            ],
            [
             0.3,
             "#f1b6da"
            ],
            [
             0.4,
             "#fde0ef"
            ],
            [
             0.5,
             "#f7f7f7"
            ],
            [
             0.6,
             "#e6f5d0"
            ],
            [
             0.7,
             "#b8e186"
            ],
            [
             0.8,
             "#7fbc41"
            ],
            [
             0.9,
             "#4d9221"
            ],
            [
             1,
             "#276419"
            ]
           ],
           "sequential": [
            [
             0,
             "#0d0887"
            ],
            [
             0.1111111111111111,
             "#46039f"
            ],
            [
             0.2222222222222222,
             "#7201a8"
            ],
            [
             0.3333333333333333,
             "#9c179e"
            ],
            [
             0.4444444444444444,
             "#bd3786"
            ],
            [
             0.5555555555555556,
             "#d8576b"
            ],
            [
             0.6666666666666666,
             "#ed7953"
            ],
            [
             0.7777777777777778,
             "#fb9f3a"
            ],
            [
             0.8888888888888888,
             "#fdca26"
            ],
            [
             1,
             "#f0f921"
            ]
           ],
           "sequentialminus": [
            [
             0,
             "#0d0887"
            ],
            [
             0.1111111111111111,
             "#46039f"
            ],
            [
             0.2222222222222222,
             "#7201a8"
            ],
            [
             0.3333333333333333,
             "#9c179e"
            ],
            [
             0.4444444444444444,
             "#bd3786"
            ],
            [
             0.5555555555555556,
             "#d8576b"
            ],
            [
             0.6666666666666666,
             "#ed7953"
            ],
            [
             0.7777777777777778,
             "#fb9f3a"
            ],
            [
             0.8888888888888888,
             "#fdca26"
            ],
            [
             1,
             "#f0f921"
            ]
           ]
          },
          "colorway": [
           "#636efa",
           "#EF553B",
           "#00cc96",
           "#ab63fa",
           "#FFA15A",
           "#19d3f3",
           "#FF6692",
           "#B6E880",
           "#FF97FF",
           "#FECB52"
          ],
          "font": {
           "color": "#2a3f5f"
          },
          "geo": {
           "bgcolor": "white",
           "lakecolor": "white",
           "landcolor": "#E5ECF6",
           "showlakes": true,
           "showland": true,
           "subunitcolor": "white"
          },
          "hoverlabel": {
           "align": "left"
          },
          "hovermode": "closest",
          "mapbox": {
           "style": "light"
          },
          "paper_bgcolor": "white",
          "plot_bgcolor": "#E5ECF6",
          "polar": {
           "angularaxis": {
            "gridcolor": "white",
            "linecolor": "white",
            "ticks": ""
           },
           "bgcolor": "#E5ECF6",
           "radialaxis": {
            "gridcolor": "white",
            "linecolor": "white",
            "ticks": ""
           }
          },
          "scene": {
           "xaxis": {
            "backgroundcolor": "#E5ECF6",
            "gridcolor": "white",
            "gridwidth": 2,
            "linecolor": "white",
            "showbackground": true,
            "ticks": "",
            "zerolinecolor": "white"
           },
           "yaxis": {
            "backgroundcolor": "#E5ECF6",
            "gridcolor": "white",
            "gridwidth": 2,
            "linecolor": "white",
            "showbackground": true,
            "ticks": "",
            "zerolinecolor": "white"
           },
           "zaxis": {
            "backgroundcolor": "#E5ECF6",
            "gridcolor": "white",
            "gridwidth": 2,
            "linecolor": "white",
            "showbackground": true,
            "ticks": "",
            "zerolinecolor": "white"
           }
          },
          "shapedefaults": {
           "line": {
            "color": "#2a3f5f"
           }
          },
          "ternary": {
           "aaxis": {
            "gridcolor": "white",
            "linecolor": "white",
            "ticks": ""
           },
           "baxis": {
            "gridcolor": "white",
            "linecolor": "white",
            "ticks": ""
           },
           "bgcolor": "#E5ECF6",
           "caxis": {
            "gridcolor": "white",
            "linecolor": "white",
            "ticks": ""
           }
          },
          "title": {
           "x": 0.05
          },
          "xaxis": {
           "automargin": true,
           "gridcolor": "white",
           "linecolor": "white",
           "ticks": "",
           "title": {
            "standoff": 15
           },
           "zerolinecolor": "white",
           "zerolinewidth": 2
          },
          "yaxis": {
           "automargin": true,
           "gridcolor": "white",
           "linecolor": "white",
           "ticks": "",
           "title": {
            "standoff": 15
           },
           "zerolinecolor": "white",
           "zerolinewidth": 2
          }
         }
        }
       }
      },
      "text/html": [
       "<div>                            <div id=\"110104bb-0246-41ff-a04c-d540fcc486a1\" class=\"plotly-graph-div\" style=\"height:525px; width:100%;\"></div>            <script type=\"text/javascript\">                require([\"plotly\"], function(Plotly) {                    window.PLOTLYENV=window.PLOTLYENV || {};                                    if (document.getElementById(\"110104bb-0246-41ff-a04c-d540fcc486a1\")) {                    Plotly.newPlot(                        \"110104bb-0246-41ff-a04c-d540fcc486a1\",                        [{\"domain\": {\"x\": [0.0, 1.0], \"y\": [0.0, 1.0]}, \"hovertemplate\": \"character=%{label}<br>parent=%{parent}<extra></extra>\", \"labels\": [\"Allergy\", \"J Investig Allergol Clin Immunol\", \"Nurs Times\", \"J Allergy Clin Immunol\", \"Epidemiol Prev\", \"Bousquet J\", \"Canonica Gw\", \"Bachert C\", \"Durham Sr\", \"Passalacqua G\", \"Valero A\", \"Bartra J\", \"Davila I\", \"Mullol J\", \"Sastre J\", \"Pearce L\", \"Potterton D\", \"Frankland Aw\", \"Watson Rt\", \"Scadding Gk\", \"Durham Sr\", \"Norman Ps\", \"Lichtenstein Lm\", \"Valenta R\", \"Meltzer Eo\", \"Mattei A\", \"Angelone Am\", \"Di Stefano R\", \"Sbarbati M\", \"Cialfi D\"], \"name\": \"\", \"parents\": [\"\", \"\", \"\", \"\", \"\", \"Allergy\", \"Allergy\", \"Allergy\", \"Allergy\", \"Allergy\", \"J Investig Allergol Clin Immunol\", \"J Investig Allergol Clin Immunol\", \"J Investig Allergol Clin Immunol\", \"J Investig Allergol Clin Immunol\", \"J Investig Allergol Clin Immunol\", \"Nurs Times\", \"Nurs Times\", \"Nurs Times\", \"Nurs Times\", \"Nurs Times\", \"J Allergy Clin Immunol\", \"J Allergy Clin Immunol\", \"J Allergy Clin Immunol\", \"J Allergy Clin Immunol\", \"J Allergy Clin Immunol\", \"Epidemiol Prev\", \"Epidemiol Prev\", \"Epidemiol Prev\", \"Epidemiol Prev\", \"Epidemiol Prev\"], \"type\": \"sunburst\"}],                        {\"legend\": {\"tracegroupgap\": 0}, \"margin\": {\"b\": 40, \"l\": 40, \"r\": 40, \"t\": 40}, \"template\": {\"data\": {\"bar\": [{\"error_x\": {\"color\": \"#2a3f5f\"}, \"error_y\": {\"color\": \"#2a3f5f\"}, \"marker\": {\"line\": {\"color\": \"#E5ECF6\", \"width\": 0.5}}, \"type\": \"bar\"}], \"barpolar\": [{\"marker\": {\"line\": {\"color\": \"#E5ECF6\", \"width\": 0.5}}, \"type\": \"barpolar\"}], \"carpet\": [{\"aaxis\": {\"endlinecolor\": \"#2a3f5f\", \"gridcolor\": \"white\", \"linecolor\": \"white\", \"minorgridcolor\": \"white\", \"startlinecolor\": \"#2a3f5f\"}, \"baxis\": {\"endlinecolor\": \"#2a3f5f\", \"gridcolor\": \"white\", \"linecolor\": \"white\", \"minorgridcolor\": \"white\", \"startlinecolor\": \"#2a3f5f\"}, \"type\": \"carpet\"}], \"choropleth\": [{\"colorbar\": {\"outlinewidth\": 0, \"ticks\": \"\"}, \"type\": \"choropleth\"}], \"contour\": [{\"colorbar\": {\"outlinewidth\": 0, \"ticks\": \"\"}, \"colorscale\": [[0.0, \"#0d0887\"], [0.1111111111111111, \"#46039f\"], [0.2222222222222222, \"#7201a8\"], [0.3333333333333333, \"#9c179e\"], [0.4444444444444444, \"#bd3786\"], [0.5555555555555556, \"#d8576b\"], [0.6666666666666666, \"#ed7953\"], [0.7777777777777778, \"#fb9f3a\"], [0.8888888888888888, \"#fdca26\"], [1.0, \"#f0f921\"]], \"type\": \"contour\"}], \"contourcarpet\": [{\"colorbar\": {\"outlinewidth\": 0, \"ticks\": \"\"}, \"type\": \"contourcarpet\"}], \"heatmap\": [{\"colorbar\": {\"outlinewidth\": 0, \"ticks\": \"\"}, \"colorscale\": [[0.0, \"#0d0887\"], [0.1111111111111111, \"#46039f\"], [0.2222222222222222, \"#7201a8\"], [0.3333333333333333, \"#9c179e\"], [0.4444444444444444, \"#bd3786\"], [0.5555555555555556, \"#d8576b\"], [0.6666666666666666, \"#ed7953\"], [0.7777777777777778, \"#fb9f3a\"], [0.8888888888888888, \"#fdca26\"], [1.0, \"#f0f921\"]], \"type\": \"heatmap\"}], \"heatmapgl\": [{\"colorbar\": {\"outlinewidth\": 0, \"ticks\": \"\"}, \"colorscale\": [[0.0, \"#0d0887\"], [0.1111111111111111, \"#46039f\"], [0.2222222222222222, \"#7201a8\"], [0.3333333333333333, \"#9c179e\"], [0.4444444444444444, \"#bd3786\"], [0.5555555555555556, \"#d8576b\"], [0.6666666666666666, \"#ed7953\"], [0.7777777777777778, \"#fb9f3a\"], [0.8888888888888888, \"#fdca26\"], [1.0, \"#f0f921\"]], \"type\": \"heatmapgl\"}], \"histogram\": [{\"marker\": {\"colorbar\": {\"outlinewidth\": 0, \"ticks\": \"\"}}, \"type\": \"histogram\"}], \"histogram2d\": [{\"colorbar\": {\"outlinewidth\": 0, \"ticks\": \"\"}, \"colorscale\": [[0.0, \"#0d0887\"], [0.1111111111111111, \"#46039f\"], [0.2222222222222222, \"#7201a8\"], [0.3333333333333333, \"#9c179e\"], [0.4444444444444444, \"#bd3786\"], [0.5555555555555556, \"#d8576b\"], [0.6666666666666666, \"#ed7953\"], [0.7777777777777778, \"#fb9f3a\"], [0.8888888888888888, \"#fdca26\"], [1.0, \"#f0f921\"]], \"type\": \"histogram2d\"}], \"histogram2dcontour\": [{\"colorbar\": {\"outlinewidth\": 0, \"ticks\": \"\"}, \"colorscale\": [[0.0, \"#0d0887\"], [0.1111111111111111, \"#46039f\"], [0.2222222222222222, \"#7201a8\"], [0.3333333333333333, \"#9c179e\"], [0.4444444444444444, \"#bd3786\"], [0.5555555555555556, \"#d8576b\"], [0.6666666666666666, \"#ed7953\"], [0.7777777777777778, \"#fb9f3a\"], [0.8888888888888888, \"#fdca26\"], [1.0, \"#f0f921\"]], \"type\": \"histogram2dcontour\"}], \"mesh3d\": [{\"colorbar\": {\"outlinewidth\": 0, \"ticks\": \"\"}, \"type\": \"mesh3d\"}], \"parcoords\": [{\"line\": {\"colorbar\": {\"outlinewidth\": 0, \"ticks\": \"\"}}, \"type\": \"parcoords\"}], \"pie\": [{\"automargin\": true, \"type\": \"pie\"}], \"scatter\": [{\"marker\": {\"colorbar\": {\"outlinewidth\": 0, \"ticks\": \"\"}}, \"type\": \"scatter\"}], \"scatter3d\": [{\"line\": {\"colorbar\": {\"outlinewidth\": 0, \"ticks\": \"\"}}, \"marker\": {\"colorbar\": {\"outlinewidth\": 0, \"ticks\": \"\"}}, \"type\": \"scatter3d\"}], \"scattercarpet\": [{\"marker\": {\"colorbar\": {\"outlinewidth\": 0, \"ticks\": \"\"}}, \"type\": \"scattercarpet\"}], \"scattergeo\": [{\"marker\": {\"colorbar\": {\"outlinewidth\": 0, \"ticks\": \"\"}}, \"type\": \"scattergeo\"}], \"scattergl\": [{\"marker\": {\"colorbar\": {\"outlinewidth\": 0, \"ticks\": \"\"}}, \"type\": \"scattergl\"}], \"scattermapbox\": [{\"marker\": {\"colorbar\": {\"outlinewidth\": 0, \"ticks\": \"\"}}, \"type\": \"scattermapbox\"}], \"scatterpolar\": [{\"marker\": {\"colorbar\": {\"outlinewidth\": 0, \"ticks\": \"\"}}, \"type\": \"scatterpolar\"}], \"scatterpolargl\": [{\"marker\": {\"colorbar\": {\"outlinewidth\": 0, \"ticks\": \"\"}}, \"type\": \"scatterpolargl\"}], \"scatterternary\": [{\"marker\": {\"colorbar\": {\"outlinewidth\": 0, \"ticks\": \"\"}}, \"type\": \"scatterternary\"}], \"surface\": [{\"colorbar\": {\"outlinewidth\": 0, \"ticks\": \"\"}, \"colorscale\": [[0.0, \"#0d0887\"], [0.1111111111111111, \"#46039f\"], [0.2222222222222222, \"#7201a8\"], [0.3333333333333333, \"#9c179e\"], [0.4444444444444444, \"#bd3786\"], [0.5555555555555556, \"#d8576b\"], [0.6666666666666666, \"#ed7953\"], [0.7777777777777778, \"#fb9f3a\"], [0.8888888888888888, \"#fdca26\"], [1.0, \"#f0f921\"]], \"type\": \"surface\"}], \"table\": [{\"cells\": {\"fill\": {\"color\": \"#EBF0F8\"}, \"line\": {\"color\": \"white\"}}, \"header\": {\"fill\": {\"color\": \"#C8D4E3\"}, \"line\": {\"color\": \"white\"}}, \"type\": \"table\"}]}, \"layout\": {\"annotationdefaults\": {\"arrowcolor\": \"#2a3f5f\", \"arrowhead\": 0, \"arrowwidth\": 1}, \"coloraxis\": {\"colorbar\": {\"outlinewidth\": 0, \"ticks\": \"\"}}, \"colorscale\": {\"diverging\": [[0, \"#8e0152\"], [0.1, \"#c51b7d\"], [0.2, \"#de77ae\"], [0.3, \"#f1b6da\"], [0.4, \"#fde0ef\"], [0.5, \"#f7f7f7\"], [0.6, \"#e6f5d0\"], [0.7, \"#b8e186\"], [0.8, \"#7fbc41\"], [0.9, \"#4d9221\"], [1, \"#276419\"]], \"sequential\": [[0.0, \"#0d0887\"], [0.1111111111111111, \"#46039f\"], [0.2222222222222222, \"#7201a8\"], [0.3333333333333333, \"#9c179e\"], [0.4444444444444444, \"#bd3786\"], [0.5555555555555556, \"#d8576b\"], [0.6666666666666666, \"#ed7953\"], [0.7777777777777778, \"#fb9f3a\"], [0.8888888888888888, \"#fdca26\"], [1.0, \"#f0f921\"]], \"sequentialminus\": [[0.0, \"#0d0887\"], [0.1111111111111111, \"#46039f\"], [0.2222222222222222, \"#7201a8\"], [0.3333333333333333, \"#9c179e\"], [0.4444444444444444, \"#bd3786\"], [0.5555555555555556, \"#d8576b\"], [0.6666666666666666, \"#ed7953\"], [0.7777777777777778, \"#fb9f3a\"], [0.8888888888888888, \"#fdca26\"], [1.0, \"#f0f921\"]]}, \"colorway\": [\"#636efa\", \"#EF553B\", \"#00cc96\", \"#ab63fa\", \"#FFA15A\", \"#19d3f3\", \"#FF6692\", \"#B6E880\", \"#FF97FF\", \"#FECB52\"], \"font\": {\"color\": \"#2a3f5f\"}, \"geo\": {\"bgcolor\": \"white\", \"lakecolor\": \"white\", \"landcolor\": \"#E5ECF6\", \"showlakes\": true, \"showland\": true, \"subunitcolor\": \"white\"}, \"hoverlabel\": {\"align\": \"left\"}, \"hovermode\": \"closest\", \"mapbox\": {\"style\": \"light\"}, \"paper_bgcolor\": \"white\", \"plot_bgcolor\": \"#E5ECF6\", \"polar\": {\"angularaxis\": {\"gridcolor\": \"white\", \"linecolor\": \"white\", \"ticks\": \"\"}, \"bgcolor\": \"#E5ECF6\", \"radialaxis\": {\"gridcolor\": \"white\", \"linecolor\": \"white\", \"ticks\": \"\"}}, \"scene\": {\"xaxis\": {\"backgroundcolor\": \"#E5ECF6\", \"gridcolor\": \"white\", \"gridwidth\": 2, \"linecolor\": \"white\", \"showbackground\": true, \"ticks\": \"\", \"zerolinecolor\": \"white\"}, \"yaxis\": {\"backgroundcolor\": \"#E5ECF6\", \"gridcolor\": \"white\", \"gridwidth\": 2, \"linecolor\": \"white\", \"showbackground\": true, \"ticks\": \"\", \"zerolinecolor\": \"white\"}, \"zaxis\": {\"backgroundcolor\": \"#E5ECF6\", \"gridcolor\": \"white\", \"gridwidth\": 2, \"linecolor\": \"white\", \"showbackground\": true, \"ticks\": \"\", \"zerolinecolor\": \"white\"}}, \"shapedefaults\": {\"line\": {\"color\": \"#2a3f5f\"}}, \"ternary\": {\"aaxis\": {\"gridcolor\": \"white\", \"linecolor\": \"white\", \"ticks\": \"\"}, \"baxis\": {\"gridcolor\": \"white\", \"linecolor\": \"white\", \"ticks\": \"\"}, \"bgcolor\": \"#E5ECF6\", \"caxis\": {\"gridcolor\": \"white\", \"linecolor\": \"white\", \"ticks\": \"\"}}, \"title\": {\"x\": 0.05}, \"xaxis\": {\"automargin\": true, \"gridcolor\": \"white\", \"linecolor\": \"white\", \"ticks\": \"\", \"title\": {\"standoff\": 15}, \"zerolinecolor\": \"white\", \"zerolinewidth\": 2}, \"yaxis\": {\"automargin\": true, \"gridcolor\": \"white\", \"linecolor\": \"white\", \"ticks\": \"\", \"title\": {\"standoff\": 15}, \"zerolinecolor\": \"white\", \"zerolinewidth\": 2}}}},                        {\"responsive\": true}                    ).then(function(){\n",
       "                            \n",
       "var gd = document.getElementById('110104bb-0246-41ff-a04c-d540fcc486a1');\n",
       "var x = new MutationObserver(function (mutations, observer) {{\n",
       "        var display = window.getComputedStyle(gd).display;\n",
       "        if (!display || display === 'none') {{\n",
       "            console.log([gd, 'removed!']);\n",
       "            Plotly.purge(gd);\n",
       "            observer.disconnect();\n",
       "        }}\n",
       "}});\n",
       "\n",
       "// Listen for the removal of the full notebook cells\n",
       "var notebookContainer = gd.closest('#notebook-container');\n",
       "if (notebookContainer) {{\n",
       "    x.observe(notebookContainer, {childList: true});\n",
       "}}\n",
       "\n",
       "// Listen for the clearing of the current output cell\n",
       "var outputEl = gd.closest('.output');\n",
       "if (outputEl) {{\n",
       "    x.observe(outputEl, {childList: true});\n",
       "}}\n",
       "\n",
       "                        })                };                });            </script>        </div>"
      ]
     },
     "metadata": {},
     "output_type": "display_data"
    }
   ],
   "source": [
    "data = dict(\n",
    "    character=[one[0], two[0], three[0], four[0], five[0]] + one[1] + two[1] + three[1] + four[1] + five[1],\n",
    "    parent=['', '', '', '', ''] + ([one[0]] * 5) + ([two[0]] * 5) + ([three[0]] * 5) + ([four[0]] * 5) + ([five[0]] * 5))\n",
    "\n",
    "fig =px.sunburst(\n",
    "    data,\n",
    "    names='character',\n",
    "    parents='parent',\n",
    ")\n",
    "fig.update_layout(\n",
    "    margin = dict(t=40, l=40, r=40, b=40)\n",
    ")\n",
    "fig.show()"
   ]
  }
 ],
 "metadata": {
  "kernelspec": {
   "display_name": "Python 3",
   "language": "python",
   "name": "python3"
  },
  "language_info": {
   "codemirror_mode": {
    "name": "ipython",
    "version": 3
   },
   "file_extension": ".py",
   "mimetype": "text/x-python",
   "name": "python",
   "nbconvert_exporter": "python",
   "pygments_lexer": "ipython3",
   "version": "3.6.9"
  }
 },
 "nbformat": 4,
 "nbformat_minor": 4
}
