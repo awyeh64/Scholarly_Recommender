{
 "cells": [
  {
   "cell_type": "code",
   "execution_count": 207,
   "metadata": {},
   "outputs": [],
   "source": [
    "import pandas as pd\n",
    "import numpy as np\n",
    "from sklearn.feature_extraction.text import CountVectorizer"
   ]
  },
  {
   "cell_type": "code",
   "execution_count": 121,
   "metadata": {},
   "outputs": [],
   "source": [
    "df_base = pd.read_csv('hay_fever.csv', low_memory = False)"
   ]
  },
  {
   "cell_type": "code",
   "execution_count": 124,
   "metadata": {},
   "outputs": [
    {
     "data": {
      "text/html": [
       "<div>\n",
       "<style scoped>\n",
       "    .dataframe tbody tr th:only-of-type {\n",
       "        vertical-align: middle;\n",
       "    }\n",
       "\n",
       "    .dataframe tbody tr th {\n",
       "        vertical-align: top;\n",
       "    }\n",
       "\n",
       "    .dataframe thead th {\n",
       "        text-align: right;\n",
       "    }\n",
       "</style>\n",
       "<table border=\"1\" class=\"dataframe\">\n",
       "  <thead>\n",
       "    <tr style=\"text-align: right;\">\n",
       "      <th></th>\n",
       "      <th>PMID</th>\n",
       "      <th>OWN</th>\n",
       "      <th>STAT</th>\n",
       "      <th>LR</th>\n",
       "      <th>IS</th>\n",
       "      <th>VI</th>\n",
       "      <th>IP</th>\n",
       "      <th>DP</th>\n",
       "      <th>PG</th>\n",
       "      <th>LID</th>\n",
       "      <th>...</th>\n",
       "      <th>ORI</th>\n",
       "      <th>SPIN</th>\n",
       "      <th>UIN</th>\n",
       "      <th>CP</th>\n",
       "      <th>RF</th>\n",
       "      <th>RPF</th>\n",
       "      <th>RPI</th>\n",
       "      <th>RIN</th>\n",
       "      <th>GS</th>\n",
       "      <th>Year</th>\n",
       "    </tr>\n",
       "  </thead>\n",
       "  <tbody>\n",
       "    <tr>\n",
       "      <th>0</th>\n",
       "      <td>33191381</td>\n",
       "      <td>NLM</td>\n",
       "      <td>In-Data-Review</td>\n",
       "      <td>20201116.0</td>\n",
       "      <td>0021-4884 (Print) 0021-4884 (Linking)</td>\n",
       "      <td>69</td>\n",
       "      <td>9</td>\n",
       "      <td>2020</td>\n",
       "      <td>928-929</td>\n",
       "      <td>10.15036/arerugi.69.928 [doi]</td>\n",
       "      <td>...</td>\n",
       "      <td>NaN</td>\n",
       "      <td>NaN</td>\n",
       "      <td>NaN</td>\n",
       "      <td>NaN</td>\n",
       "      <td>NaN</td>\n",
       "      <td>NaN</td>\n",
       "      <td>NaN</td>\n",
       "      <td>NaN</td>\n",
       "      <td>NaN</td>\n",
       "      <td>2020</td>\n",
       "    </tr>\n",
       "    <tr>\n",
       "      <th>1</th>\n",
       "      <td>33171477</td>\n",
       "      <td>NLM</td>\n",
       "      <td>Publisher</td>\n",
       "      <td>20201110.0</td>\n",
       "      <td>1423-0097 (Electronic) 1018-2438 (Linking)</td>\n",
       "      <td>NaN</td>\n",
       "      <td>NaN</td>\n",
       "      <td>2020 Nov 10</td>\n",
       "      <td>1-10</td>\n",
       "      <td>10.1159/000510942 [doi]</td>\n",
       "      <td>...</td>\n",
       "      <td>NaN</td>\n",
       "      <td>NaN</td>\n",
       "      <td>NaN</td>\n",
       "      <td>NaN</td>\n",
       "      <td>NaN</td>\n",
       "      <td>NaN</td>\n",
       "      <td>NaN</td>\n",
       "      <td>NaN</td>\n",
       "      <td>NaN</td>\n",
       "      <td>2020</td>\n",
       "    </tr>\n",
       "    <tr>\n",
       "      <th>2</th>\n",
       "      <td>33160969</td>\n",
       "      <td>NLM</td>\n",
       "      <td>Publisher</td>\n",
       "      <td>20201108.0</td>\n",
       "      <td>1097-6825 (Electronic) 0091-6749 (Linking)</td>\n",
       "      <td>NaN</td>\n",
       "      <td>NaN</td>\n",
       "      <td>2020 Nov 5</td>\n",
       "      <td>NaN</td>\n",
       "      <td>S0091-6749(20)31561-X [pii] 10.1016/j.jaci.202...</td>\n",
       "      <td>...</td>\n",
       "      <td>NaN</td>\n",
       "      <td>NaN</td>\n",
       "      <td>NaN</td>\n",
       "      <td>NaN</td>\n",
       "      <td>NaN</td>\n",
       "      <td>NaN</td>\n",
       "      <td>NaN</td>\n",
       "      <td>NaN</td>\n",
       "      <td>NaN</td>\n",
       "      <td>2020</td>\n",
       "    </tr>\n",
       "    <tr>\n",
       "      <th>3</th>\n",
       "      <td>33141493</td>\n",
       "      <td>NLM</td>\n",
       "      <td>Publisher</td>\n",
       "      <td>20201103.0</td>\n",
       "      <td>1365-2222 (Electronic) 0954-7894 (Linking)</td>\n",
       "      <td>NaN</td>\n",
       "      <td>NaN</td>\n",
       "      <td>2020 Nov 3</td>\n",
       "      <td>NaN</td>\n",
       "      <td>10.1111/cea.13775 [doi]</td>\n",
       "      <td>...</td>\n",
       "      <td>NaN</td>\n",
       "      <td>NaN</td>\n",
       "      <td>NaN</td>\n",
       "      <td>NaN</td>\n",
       "      <td>NaN</td>\n",
       "      <td>NaN</td>\n",
       "      <td>NaN</td>\n",
       "      <td>NaN</td>\n",
       "      <td>NaN</td>\n",
       "      <td>2020</td>\n",
       "    </tr>\n",
       "    <tr>\n",
       "      <th>4</th>\n",
       "      <td>33134525</td>\n",
       "      <td>NLM</td>\n",
       "      <td>PubMed-not-MEDLINE</td>\n",
       "      <td>20201103.0</td>\n",
       "      <td>2378-8038 (Print) 2378-8038 (Linking)</td>\n",
       "      <td>5</td>\n",
       "      <td>5</td>\n",
       "      <td>2020 Oct</td>\n",
       "      <td>807-808</td>\n",
       "      <td>10.1002/lio2.459 [doi]</td>\n",
       "      <td>...</td>\n",
       "      <td>NaN</td>\n",
       "      <td>NaN</td>\n",
       "      <td>NaN</td>\n",
       "      <td>NaN</td>\n",
       "      <td>NaN</td>\n",
       "      <td>NaN</td>\n",
       "      <td>NaN</td>\n",
       "      <td>NaN</td>\n",
       "      <td>NaN</td>\n",
       "      <td>2020</td>\n",
       "    </tr>\n",
       "  </tbody>\n",
       "</table>\n",
       "<p>5 rows × 78 columns</p>\n",
       "</div>"
      ],
      "text/plain": [
       "       PMID  OWN                STAT          LR  \\\n",
       "0  33191381  NLM      In-Data-Review  20201116.0   \n",
       "1  33171477  NLM           Publisher  20201110.0   \n",
       "2  33160969  NLM           Publisher  20201108.0   \n",
       "3  33141493  NLM           Publisher  20201103.0   \n",
       "4  33134525  NLM  PubMed-not-MEDLINE  20201103.0   \n",
       "\n",
       "                                           IS   VI   IP           DP       PG  \\\n",
       "0       0021-4884 (Print) 0021-4884 (Linking)   69    9         2020  928-929   \n",
       "1  1423-0097 (Electronic) 1018-2438 (Linking)  NaN  NaN  2020 Nov 10     1-10   \n",
       "2  1097-6825 (Electronic) 0091-6749 (Linking)  NaN  NaN   2020 Nov 5      NaN   \n",
       "3  1365-2222 (Electronic) 0954-7894 (Linking)  NaN  NaN   2020 Nov 3      NaN   \n",
       "4       2378-8038 (Print) 2378-8038 (Linking)    5    5     2020 Oct  807-808   \n",
       "\n",
       "                                                 LID  ...  ORI SPIN  UIN   CP  \\\n",
       "0                      10.15036/arerugi.69.928 [doi]  ...  NaN  NaN  NaN  NaN   \n",
       "1                            10.1159/000510942 [doi]  ...  NaN  NaN  NaN  NaN   \n",
       "2  S0091-6749(20)31561-X [pii] 10.1016/j.jaci.202...  ...  NaN  NaN  NaN  NaN   \n",
       "3                            10.1111/cea.13775 [doi]  ...  NaN  NaN  NaN  NaN   \n",
       "4                             10.1002/lio2.459 [doi]  ...  NaN  NaN  NaN  NaN   \n",
       "\n",
       "   RF  RPF  RPI  RIN   GS  Year  \n",
       "0 NaN  NaN  NaN  NaN  NaN  2020  \n",
       "1 NaN  NaN  NaN  NaN  NaN  2020  \n",
       "2 NaN  NaN  NaN  NaN  NaN  2020  \n",
       "3 NaN  NaN  NaN  NaN  NaN  2020  \n",
       "4 NaN  NaN  NaN  NaN  NaN  2020  \n",
       "\n",
       "[5 rows x 78 columns]"
      ]
     },
     "execution_count": 124,
     "metadata": {},
     "output_type": "execute_result"
    }
   ],
   "source": [
    "df_base.head()"
   ]
  },
  {
   "cell_type": "code",
   "execution_count": 125,
   "metadata": {},
   "outputs": [
    {
     "data": {
      "text/plain": [
       "(15766, 78)"
      ]
     },
     "execution_count": 125,
     "metadata": {},
     "output_type": "execute_result"
    }
   ],
   "source": [
    "df_base.shape"
   ]
  },
  {
   "cell_type": "code",
   "execution_count": 127,
   "metadata": {},
   "outputs": [
    {
     "data": {
      "text/plain": [
       "PMID        0\n",
       "OWN        19\n",
       "STAT        0\n",
       "LR         19\n",
       "IS        196\n",
       "VI        295\n",
       "IP       1637\n",
       "DP          0\n",
       "PG         89\n",
       "LID     12116\n",
       "LA          0\n",
       "PT          0\n",
       "PL          0\n",
       "TA         19\n",
       "JT         19\n",
       "JID        19\n",
       "SB        423\n",
       "OTO     13185\n",
       "OT      13185\n",
       "EDAT        0\n",
       "MHDA        0\n",
       "CRDT       19\n",
       "PHST       19\n",
       "AID      5996\n",
       "PST        19\n",
       "SO         19\n",
       "TI          6\n",
       "AB       5599\n",
       "CI      14256\n",
       "FAU       250\n",
       "AU        250\n",
       "AD       6346\n",
       "DEP     12981\n",
       "AUID    15507\n",
       "PMC     14358\n",
       "COIS    15634\n",
       "DCOM      264\n",
       "MH        490\n",
       "GR      14847\n",
       "TT      13022\n",
       "CN      15513\n",
       "RN       4823\n",
       "DA      15747\n",
       "CTDT    15754\n",
       "PB      15747\n",
       "BTI     15747\n",
       "CDAT    15747\n",
       "IR      15695\n",
       "FIR     15695\n",
       "SI      15616\n",
       "EFR     15762\n",
       "UOF     15758\n",
       "PMCR    15759\n",
       "EIN     15638\n",
       "MID     15600\n",
       "CIN     15312\n",
       "CON     15509\n",
       "OAB     15759\n",
       "OABL    15759\n",
       "PS      15742\n",
       "FPS     15742\n",
       "IRAD    15763\n",
       "CTI     15762\n",
       "OID     15006\n",
       "GN      15754\n",
       "ISBN    15762\n",
       "FED     15763\n",
       "ED      15763\n",
       "ORI     15765\n",
       "SPIN    15764\n",
       "UIN     15758\n",
       "CP      15764\n",
       "RF      14436\n",
       "RPF     15765\n",
       "RPI     15765\n",
       "RIN     15765\n",
       "GS      15765\n",
       "Year        0\n",
       "dtype: int64"
      ]
     },
     "execution_count": 127,
     "metadata": {},
     "output_type": "execute_result"
    }
   ],
   "source": [
    "pd.options.display.max_rows = 4000\n",
    "\n",
    "df_base.isna().sum()"
   ]
  },
  {
   "cell_type": "markdown",
   "metadata": {},
   "source": [
    "Columns of Interest\n",
    "\n",
    "| Column | Field |\n",
    "|--------|-------|\n",
    "|'AB'|Abstract|\n",
    "|'AD'|Affiliation|\n",
    "|'AID'|Article Identifier|\n",
    "|'AU'|Author|\n",
    "|'CI'|Copyright Information|\n",
    "|'CIN'|Comment In|\n",
    "|'DP'|Date of Publication|\n",
    "|'FAU'|Full Author|\n",
    "|'FIR'|Full Investigator Name|\n",
    "|'IP'|Issue|\n",
    "|'IR'|Investigator Name|\n",
    "|'IS'|ISSN|\n",
    "|'JID'|NLM Unique ID|\n",
    "|'JT'|Journal Title|\n",
    "|'LA'|Language|\n",
    "|'LID'|Location Identifier|\n",
    "|'LR'|Date Last Revised|\n",
    "|'MH'|MeSH Terms|\n",
    "|'OT'|Other Term|\n",
    "|'OWN'|Owner|\n",
    "|'PG'|Pagination|\n",
    "|'PHST'|Publication History Status|\n",
    "|'PL'|Place of Publication|\n",
    "|'PMID'|PubMed Unique Identifier|\n",
    "|'PST'|Publication Status|\n",
    "|'PT'|Publication Type|\n",
    "|'RF'|Number of References|\n",
    "|'SB'|Subset|\n",
    "|'SO'|Source|\n",
    "|'STAT'|Status|\n",
    "|'TA'|Journal Title Abbreviation|\n",
    "|'TI'|Title|\n",
    "|'VI'|Volume|\n",
    "|'Year'|Year|"
   ]
  },
  {
   "cell_type": "markdown",
   "metadata": {},
   "source": [
    "Removed Columns\n",
    "\n",
    "\n",
    "| Column | Field |\n",
    "|--------|-------|\n",
    "|'OTO'|Other Term Owner|\n",
    "|'RN'|Registry Number|\n",
    "|'PMCR'|PubMed Central Release|\n",
    "|'EIN'|Erratum in|\n",
    "|'MID'|Manuscript Identifier|\n",
    "|'EDAT'|Entrez Date|\n",
    "|'MHDA'|MeSH Date|\n",
    "|'CRDT'|Create Date|\n",
    "|'COIS'|Conflict of Interest Statement|\n",
    "|'AUID'|Author Identifier|\n",
    "|'GR'|Grant Number|\n",
    "|'DCOM'|Date Completed|\n",
    "|'PMC'|Pubmed Central Identifier|\n",
    "|'DEP'|Date of Electronic Publication|\n",
    "|'CI'|Copyright Information|\n",
    "|'LID'|Location Identifier|\n",
    "|'EFR'|Erratum For|\n",
    "|'SI'|Secondary Source ID|\n",
    "|'CON'|Comment On|\n",
    "|'CN'|Corporate Author|\n",
    "|'TT'|Transliterated Title|\n",
    "|'RIN'|Retraction In|\n",
    "|'ECI'|Expression of Concern||'OID'|Other ID|\n",
    "|'DA'|Date Created|\n",
    "|'ISBN'|ISBN|\n",
    "|'PB'|\n",
    "|'BTI'|Book Title|\n",
    "|'FPS'|Full Personal Name as Subject|\n",
    "|'CDAT'|\n",
    "|'CP'|\n",
    "|'FED'|Full Editor Name|\n",
    "|'ED'|Editor Name|\n",
    "|'RPF'|Republished From|\n",
    "|'PS'|Personal Name as Subject|\n",
    "|'GN'|General Note|\n",
    "|'DRDT'|\n",
    "|'CTDT'|\n",
    "|'RPI'|Republished In|\n",
    "|'GS'|Gene Symbol|\n"
   ]
  },
  {
   "cell_type": "code",
   "execution_count": 128,
   "metadata": {},
   "outputs": [],
   "source": [
    "cols = ['AB', 'AD', 'AID', 'AU', 'CI', 'CIN', 'DP', 'FAU', 'FIR', 'IP', 'IR', 'IS', 'JID', 'JT', 'LA', 'LID', 'LR', 'MH', 'OT', 'OWN', 'PG', 'PHST', 'PL', 'PMID', 'PST', 'PT', 'RF', 'SB', 'SO', 'STAT', 'TA', 'TI', 'VI', 'Year']\n",
    "df = df_base[cols]\n"
   ]
  },
  {
   "cell_type": "markdown",
   "metadata": {},
   "source": [
    "# FSM"
   ]
  },
  {
   "cell_type": "markdown",
   "metadata": {},
   "source": [
    "Our FSM will consist of finding the highest referenced document in our search, and then using content-based recommendation to find 5 other documents that are similar to it in regards to the keyterms of the first document"
   ]
  },
  {
   "cell_type": "code",
   "execution_count": 130,
   "metadata": {},
   "outputs": [],
   "source": [
    "df['RF'].fillna(0, inplace = True)"
   ]
  },
  {
   "cell_type": "code",
   "execution_count": 131,
   "metadata": {},
   "outputs": [
    {
     "data": {
      "text/plain": [
       "0        0\n",
       "1        0\n",
       "2        0\n",
       "3        0\n",
       "4        0\n",
       "        ..\n",
       "15761    0\n",
       "15762    0\n",
       "15763    0\n",
       "15764    0\n",
       "15765    0\n",
       "Name: RF, Length: 15766, dtype: int32"
      ]
     },
     "execution_count": 131,
     "metadata": {},
     "output_type": "execute_result"
    }
   ],
   "source": [
    "df['RF'].astype(int)"
   ]
  },
  {
   "cell_type": "code",
   "execution_count": 156,
   "metadata": {},
   "outputs": [
    {
     "data": {
      "text/plain": [
       "(15276, 35)"
      ]
     },
     "execution_count": 156,
     "metadata": {},
     "output_type": "execute_result"
    }
   ],
   "source": [
    "df[~df['MH'].isna()].shape"
   ]
  },
  {
   "cell_type": "code",
   "execution_count": 154,
   "metadata": {},
   "outputs": [
    {
     "data": {
      "text/plain": [
       "['',\n",
       " 'Humans',\n",
       " ', ',\n",
       " 'Japan',\n",
       " ', ',\n",
       " 'Macrophages',\n",
       " ', ',\n",
       " '*Rhinitis, Allergic',\n",
       " ', ',\n",
       " '*Rhinitis, Allergic, Seasonal',\n",
       " ', ',\n",
       " 'Th1 Cells',\n",
       " ', ',\n",
       " 'Th2 Cells',\n",
       " '']"
      ]
     },
     "execution_count": 154,
     "metadata": {},
     "output_type": "execute_result"
    }
   ],
   "source": [
    "df[~df['MH'].isna()]['MH'][5].strip('][').split('\\'')"
   ]
  },
  {
   "cell_type": "code",
   "execution_count": 235,
   "metadata": {},
   "outputs": [],
   "source": [
    "df_terms = df[~df['MH'].isna() | ~df['OT'].isna()].reset_index(drop = True)\n",
    "df_terms.fillna({'MH': '', 'OT': ''}, inplace = True)"
   ]
  },
  {
   "cell_type": "code",
   "execution_count": 236,
   "metadata": {},
   "outputs": [
    {
     "data": {
      "text/html": [
       "<div>\n",
       "<style scoped>\n",
       "    .dataframe tbody tr th:only-of-type {\n",
       "        vertical-align: middle;\n",
       "    }\n",
       "\n",
       "    .dataframe tbody tr th {\n",
       "        vertical-align: top;\n",
       "    }\n",
       "\n",
       "    .dataframe thead th {\n",
       "        text-align: right;\n",
       "    }\n",
       "</style>\n",
       "<table border=\"1\" class=\"dataframe\">\n",
       "  <thead>\n",
       "    <tr style=\"text-align: right;\">\n",
       "      <th></th>\n",
       "      <th>AB</th>\n",
       "      <th>AD</th>\n",
       "      <th>AID</th>\n",
       "      <th>AU</th>\n",
       "      <th>CI</th>\n",
       "      <th>CIN</th>\n",
       "      <th>DP</th>\n",
       "      <th>FAU</th>\n",
       "      <th>FIR</th>\n",
       "      <th>IP</th>\n",
       "      <th>...</th>\n",
       "      <th>PT</th>\n",
       "      <th>RF</th>\n",
       "      <th>SB</th>\n",
       "      <th>SO</th>\n",
       "      <th>STAT</th>\n",
       "      <th>TA</th>\n",
       "      <th>TI</th>\n",
       "      <th>VI</th>\n",
       "      <th>Year</th>\n",
       "      <th>terms</th>\n",
       "    </tr>\n",
       "  </thead>\n",
       "  <tbody>\n",
       "    <tr>\n",
       "      <th>0</th>\n",
       "      <td>NaN</td>\n",
       "      <td>NaN</td>\n",
       "      <td>['10.15036/arerugi.69.928 [doi]']</td>\n",
       "      <td>NaN</td>\n",
       "      <td>NaN</td>\n",
       "      <td>NaN</td>\n",
       "      <td>2020</td>\n",
       "      <td>NaN</td>\n",
       "      <td>NaN</td>\n",
       "      <td>9</td>\n",
       "      <td>...</td>\n",
       "      <td>['Journal Article']</td>\n",
       "      <td>0.0</td>\n",
       "      <td>IM</td>\n",
       "      <td>Arerugi. 2020;69(9):928-929. doi: 10.15036/are...</td>\n",
       "      <td>In-Data-Review</td>\n",
       "      <td>Arerugi</td>\n",
       "      <td>NaN</td>\n",
       "      <td>69</td>\n",
       "      <td>2020</td>\n",
       "      <td>NaN</td>\n",
       "    </tr>\n",
       "    <tr>\n",
       "      <th>1</th>\n",
       "      <td>BACKGROUND: Epithelial gene expression in alle...</td>\n",
       "      <td>['Department of Otolaryngology-Head and Neck S...</td>\n",
       "      <td>['000510942 [pii]', '10.1159/000510942 [doi]']</td>\n",
       "      <td>['Wang M', 'She W', 'Yang J', 'Wang X', 'Zhang...</td>\n",
       "      <td>['(c) 2020 S. Karger AG, Basel.']</td>\n",
       "      <td>NaN</td>\n",
       "      <td>2020 Nov 10</td>\n",
       "      <td>['Wang, Min', 'She, Wenyu', 'Yang, Jun', 'Wang...</td>\n",
       "      <td>NaN</td>\n",
       "      <td>NaN</td>\n",
       "      <td>...</td>\n",
       "      <td>['Journal Article']</td>\n",
       "      <td>0.0</td>\n",
       "      <td>IM</td>\n",
       "      <td>Int Arch Allergy Immunol. 2020 Nov 10:1-10. do...</td>\n",
       "      <td>Publisher</td>\n",
       "      <td>Int Arch Allergy Immunol</td>\n",
       "      <td>Gene Expression Analysis by Real-Time PCR in N...</td>\n",
       "      <td>NaN</td>\n",
       "      <td>2020</td>\n",
       "      <td>NaN</td>\n",
       "    </tr>\n",
       "    <tr>\n",
       "      <th>2</th>\n",
       "      <td>BACKGROUND: Allergen-specific immunotherapy (A...</td>\n",
       "      <td>['Immunomodulation and Tolerance Group, Allerg...</td>\n",
       "      <td>['S0091-6749(20)31561-X [pii]', '10.1016/j.jac...</td>\n",
       "      <td>['Sharif H', 'Acharya S', 'Dhondalay GKR', 'Va...</td>\n",
       "      <td>['Copyright (c) 2020. Published by Elsevier In...</td>\n",
       "      <td>NaN</td>\n",
       "      <td>2020 Nov 5</td>\n",
       "      <td>['Sharif, Hanisah', 'Acharya, Swati', 'Dhondal...</td>\n",
       "      <td>NaN</td>\n",
       "      <td>NaN</td>\n",
       "      <td>...</td>\n",
       "      <td>['Journal Article']</td>\n",
       "      <td>0.0</td>\n",
       "      <td>AIM IM</td>\n",
       "      <td>J Allergy Clin Immunol. 2020 Nov 5. pii: S0091...</td>\n",
       "      <td>Publisher</td>\n",
       "      <td>J Allergy Clin Immunol</td>\n",
       "      <td>Grass pollen immunotherapy alters chromatin la...</td>\n",
       "      <td>NaN</td>\n",
       "      <td>2020</td>\n",
       "      <td>NaN</td>\n",
       "    </tr>\n",
       "    <tr>\n",
       "      <th>3</th>\n",
       "      <td>BACKGROUND: Local tissue eosinophilia and Th2-...</td>\n",
       "      <td>['Allergy and Clinical Immunology, National He...</td>\n",
       "      <td>['10.1111/cea.13775 [doi]']</td>\n",
       "      <td>['Orban N', 'Jacobson MR', 'Nouri-Aria KT', 'D...</td>\n",
       "      <td>['This article is protected by copyright. All ...</td>\n",
       "      <td>NaN</td>\n",
       "      <td>2020 Nov 3</td>\n",
       "      <td>['Orban, Nara', 'Jacobson, Mikila R', 'Nouri-A...</td>\n",
       "      <td>NaN</td>\n",
       "      <td>NaN</td>\n",
       "      <td>...</td>\n",
       "      <td>['Journal Article']</td>\n",
       "      <td>0.0</td>\n",
       "      <td>IM</td>\n",
       "      <td>Clin Exp Allergy. 2020 Nov 3. doi: 10.1111/cea...</td>\n",
       "      <td>Publisher</td>\n",
       "      <td>Clin Exp Allergy</td>\n",
       "      <td>Repetitive nasal allergen challenge in allergi...</td>\n",
       "      <td>NaN</td>\n",
       "      <td>2020</td>\n",
       "      <td>NaN</td>\n",
       "    </tr>\n",
       "    <tr>\n",
       "      <th>4</th>\n",
       "      <td>NaN</td>\n",
       "      <td>['Department of Otorhinolaryngology Careggi Un...</td>\n",
       "      <td>['10.1002/lio2.459 [doi]', 'LIO2459 [pii]']</td>\n",
       "      <td>['Gallo O', 'Bruno C', 'Orlando P', 'Locatello...</td>\n",
       "      <td>NaN</td>\n",
       "      <td>NaN</td>\n",
       "      <td>2020 Oct</td>\n",
       "      <td>['Gallo, Oreste', 'Bruno, Chiara', 'Orlando, P...</td>\n",
       "      <td>NaN</td>\n",
       "      <td>5</td>\n",
       "      <td>...</td>\n",
       "      <td>['Journal Article']</td>\n",
       "      <td>0.0</td>\n",
       "      <td>NaN</td>\n",
       "      <td>Laryngoscope Investig Otolaryngol. 2020 Sep 11...</td>\n",
       "      <td>PubMed-not-MEDLINE</td>\n",
       "      <td>Laryngoscope Investig Otolaryngol</td>\n",
       "      <td>The impact of lockdown on allergic rhinitis: W...</td>\n",
       "      <td>5</td>\n",
       "      <td>2020</td>\n",
       "      <td>NaN</td>\n",
       "    </tr>\n",
       "  </tbody>\n",
       "</table>\n",
       "<p>5 rows × 35 columns</p>\n",
       "</div>"
      ],
      "text/plain": [
       "                                                  AB  \\\n",
       "0                                                NaN   \n",
       "1  BACKGROUND: Epithelial gene expression in alle...   \n",
       "2  BACKGROUND: Allergen-specific immunotherapy (A...   \n",
       "3  BACKGROUND: Local tissue eosinophilia and Th2-...   \n",
       "4                                                NaN   \n",
       "\n",
       "                                                  AD  \\\n",
       "0                                                NaN   \n",
       "1  ['Department of Otolaryngology-Head and Neck S...   \n",
       "2  ['Immunomodulation and Tolerance Group, Allerg...   \n",
       "3  ['Allergy and Clinical Immunology, National He...   \n",
       "4  ['Department of Otorhinolaryngology Careggi Un...   \n",
       "\n",
       "                                                 AID  \\\n",
       "0                  ['10.15036/arerugi.69.928 [doi]']   \n",
       "1     ['000510942 [pii]', '10.1159/000510942 [doi]']   \n",
       "2  ['S0091-6749(20)31561-X [pii]', '10.1016/j.jac...   \n",
       "3                        ['10.1111/cea.13775 [doi]']   \n",
       "4        ['10.1002/lio2.459 [doi]', 'LIO2459 [pii]']   \n",
       "\n",
       "                                                  AU  \\\n",
       "0                                                NaN   \n",
       "1  ['Wang M', 'She W', 'Yang J', 'Wang X', 'Zhang...   \n",
       "2  ['Sharif H', 'Acharya S', 'Dhondalay GKR', 'Va...   \n",
       "3  ['Orban N', 'Jacobson MR', 'Nouri-Aria KT', 'D...   \n",
       "4  ['Gallo O', 'Bruno C', 'Orlando P', 'Locatello...   \n",
       "\n",
       "                                                  CI  CIN           DP  \\\n",
       "0                                                NaN  NaN         2020   \n",
       "1                  ['(c) 2020 S. Karger AG, Basel.']  NaN  2020 Nov 10   \n",
       "2  ['Copyright (c) 2020. Published by Elsevier In...  NaN   2020 Nov 5   \n",
       "3  ['This article is protected by copyright. All ...  NaN   2020 Nov 3   \n",
       "4                                                NaN  NaN     2020 Oct   \n",
       "\n",
       "                                                 FAU  FIR   IP  ...  \\\n",
       "0                                                NaN  NaN    9  ...   \n",
       "1  ['Wang, Min', 'She, Wenyu', 'Yang, Jun', 'Wang...  NaN  NaN  ...   \n",
       "2  ['Sharif, Hanisah', 'Acharya, Swati', 'Dhondal...  NaN  NaN  ...   \n",
       "3  ['Orban, Nara', 'Jacobson, Mikila R', 'Nouri-A...  NaN  NaN  ...   \n",
       "4  ['Gallo, Oreste', 'Bruno, Chiara', 'Orlando, P...  NaN    5  ...   \n",
       "\n",
       "                    PT   RF      SB  \\\n",
       "0  ['Journal Article']  0.0      IM   \n",
       "1  ['Journal Article']  0.0      IM   \n",
       "2  ['Journal Article']  0.0  AIM IM   \n",
       "3  ['Journal Article']  0.0      IM   \n",
       "4  ['Journal Article']  0.0     NaN   \n",
       "\n",
       "                                                  SO                STAT  \\\n",
       "0  Arerugi. 2020;69(9):928-929. doi: 10.15036/are...      In-Data-Review   \n",
       "1  Int Arch Allergy Immunol. 2020 Nov 10:1-10. do...           Publisher   \n",
       "2  J Allergy Clin Immunol. 2020 Nov 5. pii: S0091...           Publisher   \n",
       "3  Clin Exp Allergy. 2020 Nov 3. doi: 10.1111/cea...           Publisher   \n",
       "4  Laryngoscope Investig Otolaryngol. 2020 Sep 11...  PubMed-not-MEDLINE   \n",
       "\n",
       "                                  TA  \\\n",
       "0                            Arerugi   \n",
       "1           Int Arch Allergy Immunol   \n",
       "2             J Allergy Clin Immunol   \n",
       "3                   Clin Exp Allergy   \n",
       "4  Laryngoscope Investig Otolaryngol   \n",
       "\n",
       "                                                  TI   VI  Year terms  \n",
       "0                                                NaN   69  2020   NaN  \n",
       "1  Gene Expression Analysis by Real-Time PCR in N...  NaN  2020   NaN  \n",
       "2  Grass pollen immunotherapy alters chromatin la...  NaN  2020   NaN  \n",
       "3  Repetitive nasal allergen challenge in allergi...  NaN  2020   NaN  \n",
       "4  The impact of lockdown on allergic rhinitis: W...    5  2020   NaN  \n",
       "\n",
       "[5 rows x 35 columns]"
      ]
     },
     "execution_count": 236,
     "metadata": {},
     "output_type": "execute_result"
    }
   ],
   "source": [
    "df_terms.head()"
   ]
  },
  {
   "cell_type": "code",
   "execution_count": 261,
   "metadata": {},
   "outputs": [],
   "source": [
    "def clean_terms(x):\n",
    "    punctuation = '*&'\n",
    "    s = x.strip('][').split('\\'')\n",
    "    s = [w for w in s if w != ', ']\n",
    "    s = [w for w in s if w != '']\n",
    "    s = [w.lower() for w in s]\n",
    "    s = [w.translate(w.maketrans('', '', punctuation)) for w in s]\n",
    "    return ' '.join(s)"
   ]
  },
  {
   "cell_type": "code",
   "execution_count": 264,
   "metadata": {},
   "outputs": [],
   "source": [
    "df_terms['mh_t'] = df_terms['MH'].apply(clean_terms)\n",
    "df_terms['ot_t'] = df_terms['OT'].apply(clean_terms)\n",
    "df_terms['terms'] = df_terms['mh_t'] + ' ' + df_terms['ot_t']"
   ]
  },
  {
   "cell_type": "code",
   "execution_count": 283,
   "metadata": {},
   "outputs": [
    {
     "data": {
      "text/plain": [
       "'ambrosia anaphylaxis antigens biometry hypersensitivity immune system diseases rhinitis, allergic, seasonal/epidemiology/statistics & numerical data anaphylaxis and allergy hay fever/epidemiology and statistics'"
      ]
     },
     "execution_count": 283,
     "metadata": {},
     "output_type": "execute_result"
    }
   ],
   "source": [
    "df_terms['terms'][15542]"
   ]
  },
  {
   "cell_type": "code",
   "execution_count": null,
   "metadata": {},
   "outputs": [],
   "source": []
  },
  {
   "cell_type": "code",
   "execution_count": 200,
   "metadata": {},
   "outputs": [],
   "source": [
    "df_terms = df_terms.sort_values(by = 'RF', ascending = False).reset_index(drop = True)"
   ]
  },
  {
   "cell_type": "code",
   "execution_count": 201,
   "metadata": {},
   "outputs": [],
   "source": [
    "best = df_terms.head(1)"
   ]
  },
  {
   "cell_type": "code",
   "execution_count": 202,
   "metadata": {},
   "outputs": [
    {
     "data": {
      "text/html": [
       "<div>\n",
       "<style scoped>\n",
       "    .dataframe tbody tr th:only-of-type {\n",
       "        vertical-align: middle;\n",
       "    }\n",
       "\n",
       "    .dataframe tbody tr th {\n",
       "        vertical-align: top;\n",
       "    }\n",
       "\n",
       "    .dataframe thead th {\n",
       "        text-align: right;\n",
       "    }\n",
       "</style>\n",
       "<table border=\"1\" class=\"dataframe\">\n",
       "  <thead>\n",
       "    <tr style=\"text-align: right;\">\n",
       "      <th></th>\n",
       "      <th>AB</th>\n",
       "      <th>AD</th>\n",
       "      <th>AID</th>\n",
       "      <th>AU</th>\n",
       "      <th>CI</th>\n",
       "      <th>CIN</th>\n",
       "      <th>DP</th>\n",
       "      <th>FAU</th>\n",
       "      <th>FIR</th>\n",
       "      <th>IP</th>\n",
       "      <th>...</th>\n",
       "      <th>PT</th>\n",
       "      <th>RF</th>\n",
       "      <th>SB</th>\n",
       "      <th>SO</th>\n",
       "      <th>STAT</th>\n",
       "      <th>TA</th>\n",
       "      <th>TI</th>\n",
       "      <th>VI</th>\n",
       "      <th>Year</th>\n",
       "      <th>terms</th>\n",
       "    </tr>\n",
       "  </thead>\n",
       "  <tbody>\n",
       "    <tr>\n",
       "      <th>0</th>\n",
       "      <td>NaN</td>\n",
       "      <td>['University Hospital and INSERM, Hopital Arna...</td>\n",
       "      <td>['ALL1620 [pii]', '10.1111/j.1398-9995.2007.01...</td>\n",
       "      <td>['Bousquet J', 'Khaltaev N', 'Cruz AA', 'Denbu...</td>\n",
       "      <td>NaN</td>\n",
       "      <td>NaN</td>\n",
       "      <td>2008 Apr</td>\n",
       "      <td>['Bousquet, J', 'Khaltaev, N', 'Cruz, A A', 'D...</td>\n",
       "      <td>NaN</td>\n",
       "      <td>NaN</td>\n",
       "      <td>...</td>\n",
       "      <td>['Journal Article', 'Practice Guideline', \"Res...</td>\n",
       "      <td>2241.0</td>\n",
       "      <td>IM</td>\n",
       "      <td>Allergy. 2008 Apr;63 Suppl 86:8-160. doi: 10.1...</td>\n",
       "      <td>MEDLINE</td>\n",
       "      <td>Allergy</td>\n",
       "      <td>Allergic Rhinitis and its Impact on Asthma (AR...</td>\n",
       "      <td>63 Suppl 86</td>\n",
       "      <td>2008</td>\n",
       "      <td>Adolescent Asthma/epidemiology/*etiology/thera...</td>\n",
       "    </tr>\n",
       "  </tbody>\n",
       "</table>\n",
       "<p>1 rows × 35 columns</p>\n",
       "</div>"
      ],
      "text/plain": [
       "    AB                                                 AD  \\\n",
       "0  NaN  ['University Hospital and INSERM, Hopital Arna...   \n",
       "\n",
       "                                                 AID  \\\n",
       "0  ['ALL1620 [pii]', '10.1111/j.1398-9995.2007.01...   \n",
       "\n",
       "                                                  AU   CI  CIN        DP  \\\n",
       "0  ['Bousquet J', 'Khaltaev N', 'Cruz AA', 'Denbu...  NaN  NaN  2008 Apr   \n",
       "\n",
       "                                                 FAU  FIR   IP  ...  \\\n",
       "0  ['Bousquet, J', 'Khaltaev, N', 'Cruz, A A', 'D...  NaN  NaN  ...   \n",
       "\n",
       "                                                  PT      RF  SB  \\\n",
       "0  ['Journal Article', 'Practice Guideline', \"Res...  2241.0  IM   \n",
       "\n",
       "                                                  SO     STAT       TA  \\\n",
       "0  Allergy. 2008 Apr;63 Suppl 86:8-160. doi: 10.1...  MEDLINE  Allergy   \n",
       "\n",
       "                                                  TI           VI  Year  \\\n",
       "0  Allergic Rhinitis and its Impact on Asthma (AR...  63 Suppl 86  2008   \n",
       "\n",
       "                                               terms  \n",
       "0  Adolescent Asthma/epidemiology/*etiology/thera...  \n",
       "\n",
       "[1 rows x 35 columns]"
      ]
     },
     "execution_count": 202,
     "metadata": {},
     "output_type": "execute_result"
    }
   ],
   "source": [
    "best"
   ]
  },
  {
   "cell_type": "code",
   "execution_count": 203,
   "metadata": {},
   "outputs": [],
   "source": [
    "cv = CountVectorizer()\n",
    "X = cv.fit_transform(df_terms['terms'])\n",
    "X = pd.DataFrame.sparse.from_spmatrix(X)\n",
    "X.columns = sorted(cv.vocabulary_)\n",
    "X = X.to_numpy()\n",
    "\n",
    "numerators = np.array([X[0].dot(i) for i in X[1:]])\n",
    "denominators = np.array([np.sqrt(sum(X[0]**2)) *\\\n",
    "                         np.sqrt(sum(i**2)) for i in X[1:]])\n",
    "\n",
    "results = numerators / denominators"
   ]
  },
  {
   "cell_type": "code",
   "execution_count": 219,
   "metadata": {},
   "outputs": [
    {
     "name": "stdout",
     "output_type": "stream",
     "text": [
      "[0.24366633 0.60328193 0.20286368 ... 0.08084521 0.2655274  0.28924061]\n"
     ]
    }
   ],
   "source": [
    "print(results)"
   ]
  },
  {
   "cell_type": "markdown",
   "metadata": {},
   "source": [
    "Results will be found by matching the 5 highest cosine similarities, and the matching them to the correct index; will finish after dinner"
   ]
  },
  {
   "cell_type": "code",
   "execution_count": 268,
   "metadata": {},
   "outputs": [],
   "source": [
    "ind = np.argpartition(results, -4)[-4:]"
   ]
  },
  {
   "cell_type": "code",
   "execution_count": 269,
   "metadata": {},
   "outputs": [
    {
     "data": {
      "text/plain": [
       "array([13958, 15035,   191,   165], dtype=int64)"
      ]
     },
     "execution_count": 269,
     "metadata": {},
     "output_type": "execute_result"
    }
   ],
   "source": [
    "ind"
   ]
  },
  {
   "cell_type": "code",
   "execution_count": 271,
   "metadata": {},
   "outputs": [
    {
     "data": {
      "text/plain": [
       "array([0.75300747, 0.75740971, 0.76015205, 0.7970534 ])"
      ]
     },
     "execution_count": 271,
     "metadata": {},
     "output_type": "execute_result"
    }
   ],
   "source": [
    "results[ind]"
   ]
  },
  {
   "cell_type": "code",
   "execution_count": 280,
   "metadata": {},
   "outputs": [
    {
     "data": {
      "text/plain": [
       "['Allergic shiners. Dark circles under the eyes in children.',\n",
       " '[Treatment of allergic patients with plimasin].',\n",
       " 'Cat and dog ownership during/after the first year of life and risk for sensitization and reported allergy symptoms at age 13.',\n",
       " 'Residential green space and seasonal distress in a cohort of tree pollen allergy patients.']"
      ]
     },
     "execution_count": 280,
     "metadata": {},
     "output_type": "execute_result"
    }
   ],
   "source": [
    "list(df_terms.iloc[ind]['TI'])"
   ]
  },
  {
   "cell_type": "code",
   "execution_count": null,
   "metadata": {},
   "outputs": [],
   "source": []
  }
 ],
 "metadata": {
  "kernelspec": {
   "display_name": "Python 3",
   "language": "python",
   "name": "python3"
  },
  "language_info": {
   "codemirror_mode": {
    "name": "ipython",
    "version": 3
   },
   "file_extension": ".py",
   "mimetype": "text/x-python",
   "name": "python",
   "nbconvert_exporter": "python",
   "pygments_lexer": "ipython3",
   "version": "3.6.9"
  }
 },
 "nbformat": 4,
 "nbformat_minor": 4
}
