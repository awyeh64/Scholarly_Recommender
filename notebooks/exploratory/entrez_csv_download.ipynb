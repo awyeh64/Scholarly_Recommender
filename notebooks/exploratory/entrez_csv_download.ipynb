{
 "cells": [
  {
   "cell_type": "code",
   "execution_count": null,
   "metadata": {},
   "outputs": [],
   "source": [
    "from Bio import Entrez\n",
    "from Bio import Medline\n",
    "from tqdm import tqdm\n",
    "\n",
    "Entrez.email = \"awyeh450471@gmail.com\"\n",
    "\n",
    "keyword = \"hay fever\"\n",
    "\n",
    "result = Entrez.read(Entrez.esearch(db=\"pubmed\", retmax=10, term=keyword))\n",
    "print(\n",
    "    \"Total number of publications that contain the term {}: {}\".format(\n",
    "        keyword, result[\"Count\"]\n",
    "    )\n",
    ")\n",
    "\n",
    "# Fetch all ids\n",
    "MAX_COUNT = result[\"Count\"]\n",
    "result = Entrez.read(\n",
    "    Entrez.esearch(db=\"pubmed\", retmax=result[\"Count\"], term=keyword)\n",
    ")\n",
    "\n",
    "ids = result[\"IdList\"]\n",
    "\n",
    "batch_size = 100\n",
    "batches = [ids[x: x + 100] for x in range(0, len(ids), batch_size)]\n",
    "\n",
    "record_list = []\n",
    "for batch in tqdm(batches):\n",
    "    h = Entrez.efetch(db=\"pubmed\", id=batch, rettype=\"medline\", retmode=\"text\")\n",
    "    records = Medline.parse(h)\n",
    "    record_list.extend(list(records))\n",
    "print(\"Complete.\")"
   ]
  }
 ],
 "metadata": {
  "kernelspec": {
   "display_name": "Python 3",
   "language": "python",
   "name": "python3"
  },
  "language_info": {
   "codemirror_mode": {
    "name": "ipython",
    "version": 3
   },
   "file_extension": ".py",
   "mimetype": "text/x-python",
   "name": "python",
   "nbconvert_exporter": "python",
   "pygments_lexer": "ipython3",
   "version": "3.6.9"
  }
 },
 "nbformat": 4,
 "nbformat_minor": 4
}
