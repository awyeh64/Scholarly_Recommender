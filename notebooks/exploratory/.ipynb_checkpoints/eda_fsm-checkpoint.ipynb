{
 "cells": [
  {
   "cell_type": "code",
   "execution_count": 86,
   "metadata": {},
   "outputs": [],
   "source": [
    "import pandas as pd\n",
    "import numpy as np\n",
    "from sklearn.feature_extraction.text import CountVectorizer\n",
    "from sklearn.feature_extraction.text import CountVectorizer, TfidfVectorizer, TfidfTransformer\n",
    "from sklearn.linear_model import LogisticRegression\n",
    "\n",
    "from collections import Counter\n"
   ]
  },
  {
   "cell_type": "code",
   "execution_count": 87,
   "metadata": {},
   "outputs": [],
   "source": [
    "df_base = pd.read_csv('hay_fever.csv', low_memory = False)"
   ]
  },
  {
   "cell_type": "code",
   "execution_count": 88,
   "metadata": {},
   "outputs": [
    {
     "data": {
      "text/html": [
       "<div>\n",
       "<style scoped>\n",
       "    .dataframe tbody tr th:only-of-type {\n",
       "        vertical-align: middle;\n",
       "    }\n",
       "\n",
       "    .dataframe tbody tr th {\n",
       "        vertical-align: top;\n",
       "    }\n",
       "\n",
       "    .dataframe thead th {\n",
       "        text-align: right;\n",
       "    }\n",
       "</style>\n",
       "<table border=\"1\" class=\"dataframe\">\n",
       "  <thead>\n",
       "    <tr style=\"text-align: right;\">\n",
       "      <th></th>\n",
       "      <th>PMID</th>\n",
       "      <th>OWN</th>\n",
       "      <th>STAT</th>\n",
       "      <th>LR</th>\n",
       "      <th>IS</th>\n",
       "      <th>VI</th>\n",
       "      <th>IP</th>\n",
       "      <th>DP</th>\n",
       "      <th>PG</th>\n",
       "      <th>LID</th>\n",
       "      <th>...</th>\n",
       "      <th>ORI</th>\n",
       "      <th>SPIN</th>\n",
       "      <th>UIN</th>\n",
       "      <th>CP</th>\n",
       "      <th>RF</th>\n",
       "      <th>RPF</th>\n",
       "      <th>RPI</th>\n",
       "      <th>RIN</th>\n",
       "      <th>GS</th>\n",
       "      <th>Year</th>\n",
       "    </tr>\n",
       "  </thead>\n",
       "  <tbody>\n",
       "    <tr>\n",
       "      <th>0</th>\n",
       "      <td>33191381</td>\n",
       "      <td>NLM</td>\n",
       "      <td>In-Data-Review</td>\n",
       "      <td>20201116.0</td>\n",
       "      <td>0021-4884 (Print) 0021-4884 (Linking)</td>\n",
       "      <td>69</td>\n",
       "      <td>9</td>\n",
       "      <td>2020</td>\n",
       "      <td>928-929</td>\n",
       "      <td>10.15036/arerugi.69.928 [doi]</td>\n",
       "      <td>...</td>\n",
       "      <td>NaN</td>\n",
       "      <td>NaN</td>\n",
       "      <td>NaN</td>\n",
       "      <td>NaN</td>\n",
       "      <td>NaN</td>\n",
       "      <td>NaN</td>\n",
       "      <td>NaN</td>\n",
       "      <td>NaN</td>\n",
       "      <td>NaN</td>\n",
       "      <td>2020</td>\n",
       "    </tr>\n",
       "    <tr>\n",
       "      <th>1</th>\n",
       "      <td>33171477</td>\n",
       "      <td>NLM</td>\n",
       "      <td>Publisher</td>\n",
       "      <td>20201110.0</td>\n",
       "      <td>1423-0097 (Electronic) 1018-2438 (Linking)</td>\n",
       "      <td>NaN</td>\n",
       "      <td>NaN</td>\n",
       "      <td>2020 Nov 10</td>\n",
       "      <td>1-10</td>\n",
       "      <td>10.1159/000510942 [doi]</td>\n",
       "      <td>...</td>\n",
       "      <td>NaN</td>\n",
       "      <td>NaN</td>\n",
       "      <td>NaN</td>\n",
       "      <td>NaN</td>\n",
       "      <td>NaN</td>\n",
       "      <td>NaN</td>\n",
       "      <td>NaN</td>\n",
       "      <td>NaN</td>\n",
       "      <td>NaN</td>\n",
       "      <td>2020</td>\n",
       "    </tr>\n",
       "    <tr>\n",
       "      <th>2</th>\n",
       "      <td>33160969</td>\n",
       "      <td>NLM</td>\n",
       "      <td>Publisher</td>\n",
       "      <td>20201108.0</td>\n",
       "      <td>1097-6825 (Electronic) 0091-6749 (Linking)</td>\n",
       "      <td>NaN</td>\n",
       "      <td>NaN</td>\n",
       "      <td>2020 Nov 5</td>\n",
       "      <td>NaN</td>\n",
       "      <td>S0091-6749(20)31561-X [pii] 10.1016/j.jaci.202...</td>\n",
       "      <td>...</td>\n",
       "      <td>NaN</td>\n",
       "      <td>NaN</td>\n",
       "      <td>NaN</td>\n",
       "      <td>NaN</td>\n",
       "      <td>NaN</td>\n",
       "      <td>NaN</td>\n",
       "      <td>NaN</td>\n",
       "      <td>NaN</td>\n",
       "      <td>NaN</td>\n",
       "      <td>2020</td>\n",
       "    </tr>\n",
       "    <tr>\n",
       "      <th>3</th>\n",
       "      <td>33141493</td>\n",
       "      <td>NLM</td>\n",
       "      <td>Publisher</td>\n",
       "      <td>20201103.0</td>\n",
       "      <td>1365-2222 (Electronic) 0954-7894 (Linking)</td>\n",
       "      <td>NaN</td>\n",
       "      <td>NaN</td>\n",
       "      <td>2020 Nov 3</td>\n",
       "      <td>NaN</td>\n",
       "      <td>10.1111/cea.13775 [doi]</td>\n",
       "      <td>...</td>\n",
       "      <td>NaN</td>\n",
       "      <td>NaN</td>\n",
       "      <td>NaN</td>\n",
       "      <td>NaN</td>\n",
       "      <td>NaN</td>\n",
       "      <td>NaN</td>\n",
       "      <td>NaN</td>\n",
       "      <td>NaN</td>\n",
       "      <td>NaN</td>\n",
       "      <td>2020</td>\n",
       "    </tr>\n",
       "    <tr>\n",
       "      <th>4</th>\n",
       "      <td>33134525</td>\n",
       "      <td>NLM</td>\n",
       "      <td>PubMed-not-MEDLINE</td>\n",
       "      <td>20201103.0</td>\n",
       "      <td>2378-8038 (Print) 2378-8038 (Linking)</td>\n",
       "      <td>5</td>\n",
       "      <td>5</td>\n",
       "      <td>2020 Oct</td>\n",
       "      <td>807-808</td>\n",
       "      <td>10.1002/lio2.459 [doi]</td>\n",
       "      <td>...</td>\n",
       "      <td>NaN</td>\n",
       "      <td>NaN</td>\n",
       "      <td>NaN</td>\n",
       "      <td>NaN</td>\n",
       "      <td>NaN</td>\n",
       "      <td>NaN</td>\n",
       "      <td>NaN</td>\n",
       "      <td>NaN</td>\n",
       "      <td>NaN</td>\n",
       "      <td>2020</td>\n",
       "    </tr>\n",
       "  </tbody>\n",
       "</table>\n",
       "<p>5 rows × 78 columns</p>\n",
       "</div>"
      ],
      "text/plain": [
       "       PMID  OWN                STAT          LR  \\\n",
       "0  33191381  NLM      In-Data-Review  20201116.0   \n",
       "1  33171477  NLM           Publisher  20201110.0   \n",
       "2  33160969  NLM           Publisher  20201108.0   \n",
       "3  33141493  NLM           Publisher  20201103.0   \n",
       "4  33134525  NLM  PubMed-not-MEDLINE  20201103.0   \n",
       "\n",
       "                                           IS   VI   IP           DP       PG  \\\n",
       "0       0021-4884 (Print) 0021-4884 (Linking)   69    9         2020  928-929   \n",
       "1  1423-0097 (Electronic) 1018-2438 (Linking)  NaN  NaN  2020 Nov 10     1-10   \n",
       "2  1097-6825 (Electronic) 0091-6749 (Linking)  NaN  NaN   2020 Nov 5      NaN   \n",
       "3  1365-2222 (Electronic) 0954-7894 (Linking)  NaN  NaN   2020 Nov 3      NaN   \n",
       "4       2378-8038 (Print) 2378-8038 (Linking)    5    5     2020 Oct  807-808   \n",
       "\n",
       "                                                 LID  ...  ORI SPIN  UIN   CP  \\\n",
       "0                      10.15036/arerugi.69.928 [doi]  ...  NaN  NaN  NaN  NaN   \n",
       "1                            10.1159/000510942 [doi]  ...  NaN  NaN  NaN  NaN   \n",
       "2  S0091-6749(20)31561-X [pii] 10.1016/j.jaci.202...  ...  NaN  NaN  NaN  NaN   \n",
       "3                            10.1111/cea.13775 [doi]  ...  NaN  NaN  NaN  NaN   \n",
       "4                             10.1002/lio2.459 [doi]  ...  NaN  NaN  NaN  NaN   \n",
       "\n",
       "   RF  RPF  RPI  RIN   GS  Year  \n",
       "0 NaN  NaN  NaN  NaN  NaN  2020  \n",
       "1 NaN  NaN  NaN  NaN  NaN  2020  \n",
       "2 NaN  NaN  NaN  NaN  NaN  2020  \n",
       "3 NaN  NaN  NaN  NaN  NaN  2020  \n",
       "4 NaN  NaN  NaN  NaN  NaN  2020  \n",
       "\n",
       "[5 rows x 78 columns]"
      ]
     },
     "execution_count": 88,
     "metadata": {},
     "output_type": "execute_result"
    }
   ],
   "source": [
    "df_base.head()"
   ]
  },
  {
   "cell_type": "code",
   "execution_count": 75,
   "metadata": {},
   "outputs": [
    {
     "data": {
      "text/plain": [
       "(15766, 78)"
      ]
     },
     "execution_count": 75,
     "metadata": {},
     "output_type": "execute_result"
    }
   ],
   "source": [
    "df_base.shape"
   ]
  },
  {
   "cell_type": "code",
   "execution_count": 76,
   "metadata": {},
   "outputs": [
    {
     "data": {
      "text/plain": [
       "PMID        0\n",
       "OWN        19\n",
       "STAT        0\n",
       "LR         19\n",
       "IS        196\n",
       "VI        295\n",
       "IP       1637\n",
       "DP          0\n",
       "PG         89\n",
       "LID     12116\n",
       "LA          0\n",
       "PT          0\n",
       "PL          0\n",
       "TA         19\n",
       "JT         19\n",
       "JID        19\n",
       "SB        423\n",
       "OTO     13185\n",
       "OT      13185\n",
       "EDAT        0\n",
       "MHDA        0\n",
       "CRDT       19\n",
       "PHST       19\n",
       "AID      5996\n",
       "PST        19\n",
       "SO         19\n",
       "TI          6\n",
       "AB       5599\n",
       "CI      14256\n",
       "FAU       250\n",
       "AU        250\n",
       "AD       6346\n",
       "DEP     12981\n",
       "AUID    15507\n",
       "PMC     14358\n",
       "COIS    15634\n",
       "DCOM      264\n",
       "MH        490\n",
       "GR      14847\n",
       "TT      13022\n",
       "CN      15513\n",
       "RN       4823\n",
       "DA      15747\n",
       "CTDT    15754\n",
       "PB      15747\n",
       "BTI     15747\n",
       "CDAT    15747\n",
       "IR      15695\n",
       "FIR     15695\n",
       "SI      15616\n",
       "EFR     15762\n",
       "UOF     15758\n",
       "PMCR    15759\n",
       "EIN     15638\n",
       "MID     15600\n",
       "CIN     15312\n",
       "CON     15509\n",
       "OAB     15759\n",
       "OABL    15759\n",
       "PS      15742\n",
       "FPS     15742\n",
       "IRAD    15763\n",
       "CTI     15762\n",
       "OID     15006\n",
       "GN      15754\n",
       "ISBN    15762\n",
       "FED     15763\n",
       "ED      15763\n",
       "ORI     15765\n",
       "SPIN    15764\n",
       "UIN     15758\n",
       "CP      15764\n",
       "RF      14436\n",
       "RPF     15765\n",
       "RPI     15765\n",
       "RIN     15765\n",
       "GS      15765\n",
       "Year        0\n",
       "dtype: int64"
      ]
     },
     "execution_count": 76,
     "metadata": {},
     "output_type": "execute_result"
    }
   ],
   "source": [
    "pd.options.display.max_rows = 4000\n",
    "\n",
    "df_base.isna().sum()"
   ]
  },
  {
   "cell_type": "markdown",
   "metadata": {},
   "source": [
    "Columns of Interest\n",
    "\n",
    "| Column | Field |\n",
    "|--------|-------|\n",
    "|'AB'|Abstract|\n",
    "|'AD'|Affiliation|\n",
    "|'AID'|Article Identifier|\n",
    "|'AU'|Author|\n",
    "|'CI'|Copyright Information|\n",
    "|'CIN'|Comment In|\n",
    "|'DP'|Date of Publication|\n",
    "|'FAU'|Full Author|\n",
    "|'FIR'|Full Investigator Name|\n",
    "|'IP'|Issue|\n",
    "|'IR'|Investigator Name|\n",
    "|'IS'|ISSN|\n",
    "|'JID'|NLM Unique ID|\n",
    "|'JT'|Journal Title|\n",
    "|'LA'|Language|\n",
    "|'LID'|Location Identifier|\n",
    "|'LR'|Date Last Revised|\n",
    "|'MH'|MeSH Terms|\n",
    "|'OT'|Other Term|\n",
    "|'OWN'|Owner|\n",
    "|'PG'|Pagination|\n",
    "|'PHST'|Publication History Status|\n",
    "|'PL'|Place of Publication|\n",
    "|'PMID'|PubMed Unique Identifier|\n",
    "|'PST'|Publication Status|\n",
    "|'PT'|Publication Type|\n",
    "|'RF'|Number of References|\n",
    "|'SB'|Subset|\n",
    "|'SO'|Source|\n",
    "|'STAT'|Status|\n",
    "|'TA'|Journal Title Abbreviation|\n",
    "|'TI'|Title|\n",
    "|'VI'|Volume|\n",
    "|'Year'|Year|"
   ]
  },
  {
   "cell_type": "markdown",
   "metadata": {},
   "source": [
    "Removed Columns\n",
    "\n",
    "\n",
    "| Column | Field |\n",
    "|--------|-------|\n",
    "|'OTO'|Other Term Owner|\n",
    "|'RN'|Registry Number|\n",
    "|'PMCR'|PubMed Central Release|\n",
    "|'EIN'|Erratum in|\n",
    "|'MID'|Manuscript Identifier|\n",
    "|'EDAT'|Entrez Date|\n",
    "|'MHDA'|MeSH Date|\n",
    "|'CRDT'|Create Date|\n",
    "|'COIS'|Conflict of Interest Statement|\n",
    "|'AUID'|Author Identifier|\n",
    "|'GR'|Grant Number|\n",
    "|'DCOM'|Date Completed|\n",
    "|'PMC'|Pubmed Central Identifier|\n",
    "|'DEP'|Date of Electronic Publication|\n",
    "|'CI'|Copyright Information|\n",
    "|'LID'|Location Identifier|\n",
    "|'EFR'|Erratum For|\n",
    "|'SI'|Secondary Source ID|\n",
    "|'CON'|Comment On|\n",
    "|'CN'|Corporate Author|\n",
    "|'TT'|Transliterated Title|\n",
    "|'RIN'|Retraction In|\n",
    "|'ECI'|Expression of Concern||'OID'|Other ID|\n",
    "|'DA'|Date Created|\n",
    "|'ISBN'|ISBN|\n",
    "|'PB'|\n",
    "|'BTI'|Book Title|\n",
    "|'FPS'|Full Personal Name as Subject|\n",
    "|'CDAT'|\n",
    "|'CP'|\n",
    "|'FED'|Full Editor Name|\n",
    "|'ED'|Editor Name|\n",
    "|'RPF'|Republished From|\n",
    "|'PS'|Personal Name as Subject|\n",
    "|'GN'|General Note|\n",
    "|'DRDT'|\n",
    "|'CTDT'|\n",
    "|'RPI'|Republished In|\n",
    "|'GS'|Gene Symbol|\n"
   ]
  },
  {
   "cell_type": "code",
   "execution_count": 77,
   "metadata": {},
   "outputs": [],
   "source": [
    "cols = ['AB', 'AD', 'AID', 'AU', 'CI', 'CIN', 'DP', 'FAU', 'FIR', 'IP', 'IR', 'IS', 'JID', 'JT', 'LA', 'LID', 'LR', 'MH', 'OT', 'OWN', 'PG', 'PHST', 'PL', 'PMID', 'PST', 'PT', 'RF', 'SB', 'SO', 'STAT', 'TA', 'TI', 'VI', 'Year']\n",
    "df = df_base[cols]"
   ]
  },
  {
   "cell_type": "code",
   "execution_count": 78,
   "metadata": {},
   "outputs": [],
   "source": [
    "clean_cols = ['AB', 'AD', 'AU', 'CI', 'DP', 'FAU', 'FIR', 'IP', 'IR', 'JT', 'LA', 'MH', 'OT', 'OWN', 'PHST', 'PL', 'PMID', 'PST', 'PT', 'RF', 'SB', 'SO', 'STAT', 'TA', 'TI', 'VI', 'Year']\n",
    "df = df_base[cols]"
   ]
  },
  {
   "cell_type": "code",
   "execution_count": 8,
   "metadata": {
    "scrolled": true
   },
   "outputs": [
    {
     "data": {
      "text/plain": [
       "['1985/01/01 00:00 [pubmed]', '1985/01/01 00:01 [medline]', '1985/01/01 00:00 [entrez]']                                                                  56\n",
       "['1988/01/01 00:00 [pubmed]', '1988/01/01 00:01 [medline]', '1988/01/01 00:00 [entrez]']                                                                  55\n",
       "['1970/01/01 00:00 [pubmed]', '1970/01/01 00:01 [medline]', '1970/01/01 00:00 [entrez]']                                                                  54\n",
       "['1992/01/01 00:00 [pubmed]', '1992/01/01 00:01 [medline]', '1992/01/01 00:00 [entrez]']                                                                  54\n",
       "['1979/01/01 00:00 [pubmed]', '1979/01/01 00:01 [medline]', '1979/01/01 00:00 [entrez]']                                                                  53\n",
       "                                                                                                                                                          ..\n",
       "['2002/06/11 10:00 [pubmed]', '2002/12/18 04:00 [medline]', '2002/06/11 10:00 [entrez]']                                                                   1\n",
       "['1999/12/22 09:00 [pubmed]', '2000/04/01 09:00 [medline]', '1999/12/22 09:00 [entrez]']                                                                   1\n",
       "['1973/01/20 00:00 [pubmed]', '1973/01/20 00:01 [medline]', '1973/01/20 00:00 [entrez]']                                                                   1\n",
       "['2012/06/07 00:00 [received]', '2013/09/11 00:00 [accepted]', '2014/03/08 06:00 [entrez]', '2014/03/08 06:00 [pubmed]', '2015/01/13 06:00 [medline]']     1\n",
       "['2011/09/01 00:00 [received]', '2011/10/17 00:00 [accepted]', '2012/10/11 06:00 [entrez]', '2011/01/01 00:00 [pubmed]', '2011/01/01 00:01 [medline]']     1\n",
       "Name: PHST, Length: 8372, dtype: int64"
      ]
     },
     "execution_count": 8,
     "metadata": {},
     "output_type": "execute_result"
    }
   ],
   "source": [
    "df['PHST'].value_counts()"
   ]
  },
  {
   "cell_type": "code",
   "execution_count": 9,
   "metadata": {},
   "outputs": [],
   "source": [
    "import seaborn as sns\n",
    "import matplotlib.pyplot as plt"
   ]
  },
  {
   "cell_type": "code",
   "execution_count": 10,
   "metadata": {},
   "outputs": [
    {
     "data": {
      "text/plain": [
       "Index(['['Weber RW']', '['BROWN EA']', '['Wuthrich B']', '['Meltzer EO']',\n",
       "       '['Norman PS']', '['Okuda M']', '['Mygind N']', '['Bachert C']',\n",
       "       '['Blaiss MS']', '['Connell JT']'],\n",
       "      dtype='object')"
      ]
     },
     "execution_count": 10,
     "metadata": {},
     "output_type": "execute_result"
    }
   ],
   "source": [
    "df['AU'].value_counts().keys()[:10]"
   ]
  },
  {
   "cell_type": "code",
   "execution_count": 11,
   "metadata": {},
   "outputs": [
    {
     "data": {
      "image/png": "[encoded data removed]",
      "text/plain": [
       "<Figure size 1440x720 with 1 Axes>"
      ]
     },
     "metadata": {},
     "output_type": "display_data"
    }
   ],
   "source": [
    "sns.set(context = 'poster', style = 'white')\n",
    "\n",
    "x = df['AU'].value_counts().values[:10]\n",
    "y = df['AU'].value_counts().keys()[:10]\n",
    "yticks = ['Weber RW', 'Brown EA', 'Wulthrich B', 'Meltzer EO', 'Norman PS', 'Mygind N', 'Okuda M', 'Bachert C', 'Connell JT', 'Blaiss MS']\n",
    "title = 'Number of Publications per Author'\n",
    "\n",
    "plt.figure(figsize=(20,10))\n",
    "ax = sns.barplot(x = x, y = y, orient = 'h', color = '#63d297')\n",
    "ax.set(yticklabels = yticks, title = title)\n",
    "sns.despine(top = True, right = True, bottom = False, left = False)\n",
    "\n",
    "plt.savefig('popular_authors.png', dpi=300, bbox_inches='tight', transparent = True)"
   ]
  },
  {
   "cell_type": "code",
   "execution_count": 12,
   "metadata": {},
   "outputs": [
    {
     "data": {
      "text/plain": [
       "<Figure size 1440x720 with 0 Axes>"
      ]
     },
     "metadata": {},
     "output_type": "display_data"
    },
    {
     "data": {
      "image/png": "[encoded data removed]",
      "text/plain": [
       "<Figure size 1260x720 with 1 Axes>"
      ]
     },
     "metadata": {},
     "output_type": "display_data"
    }
   ],
   "source": [
    "sns.set(context = 'poster', style = 'white')\n",
    "\n",
    "x = df['Year']\n",
    "xlabel = ''\n",
    "ylabel = ''\n",
    "yticks = ''\n",
    "title = 'Number of Publications per Year'\n",
    "\n",
    "plt.figure(figsize=(20,10))\n",
    "ax = sns.displot(data = x, kind = 'kde', color = '#63d297', aspect = 1.75, height = 10)\n",
    "ax.set(xlabel = xlabel, yticklabels = yticks, ylabel = ylabel, xlim = (1940, 2020), title = title)\n",
    "\n",
    "plt.savefig('publications_year.png', dpi=300, bbox_inches='tight', transparent = True)\n",
    "plt.show()"
   ]
  },
  {
   "cell_type": "code",
   "execution_count": 13,
   "metadata": {},
   "outputs": [
    {
     "ename": "KeyError",
     "evalue": "['EDAT']",
     "output_type": "error",
     "traceback": [
      "\u001b[1;31m---------------------------------------------------------------------------\u001b[0m",
      "\u001b[1;31mKeyError\u001b[0m                                  Traceback (most recent call last)",
      "\u001b[1;32m<ipython-input-13-af055474ebb3>\u001b[0m in \u001b[0;36m<module>\u001b[1;34m\u001b[0m\n\u001b[1;32m----> 1\u001b[1;33m \u001b[0mdf\u001b[0m\u001b[1;33m.\u001b[0m\u001b[0mdropna\u001b[0m\u001b[1;33m(\u001b[0m\u001b[0msubset\u001b[0m\u001b[1;33m=\u001b[0m\u001b[1;33m[\u001b[0m\u001b[1;34m'EDAT'\u001b[0m\u001b[1;33m]\u001b[0m\u001b[1;33m,\u001b[0m \u001b[0minplace\u001b[0m\u001b[1;33m=\u001b[0m\u001b[1;32mTrue\u001b[0m\u001b[1;33m)\u001b[0m\u001b[1;33m\u001b[0m\u001b[1;33m\u001b[0m\u001b[0m\n\u001b[0m\u001b[0;32m      2\u001b[0m df[\"Year\"] = (\n\u001b[0;32m      3\u001b[0m     \u001b[0mpublication_data\u001b[0m\u001b[1;33m[\u001b[0m\u001b[1;34m\"EDAT\"\u001b[0m\u001b[1;33m]\u001b[0m\u001b[1;33m.\u001b[0m\u001b[0mastype\u001b[0m\u001b[1;33m(\u001b[0m\u001b[0mstr\u001b[0m\u001b[1;33m)\u001b[0m\u001b[1;33m.\u001b[0m\u001b[0mstr\u001b[0m\u001b[1;33m[\u001b[0m\u001b[1;36m0\u001b[0m\u001b[1;33m:\u001b[0m\u001b[1;36m4\u001b[0m\u001b[1;33m]\u001b[0m\u001b[1;33m.\u001b[0m\u001b[0mastype\u001b[0m\u001b[1;33m(\u001b[0m\u001b[0mint\u001b[0m\u001b[1;33m)\u001b[0m\u001b[1;33m\u001b[0m\u001b[1;33m\u001b[0m\u001b[0m\n\u001b[0;32m      4\u001b[0m )\n",
      "\u001b[1;32mY:\\Users\\awyeh\\anaconda3\\envs\\learn-env\\lib\\site-packages\\pandas\\core\\frame.py\u001b[0m in \u001b[0;36mdropna\u001b[1;34m(self, axis, how, thresh, subset, inplace)\u001b[0m\n\u001b[0;32m   4857\u001b[0m                 \u001b[0mcheck\u001b[0m \u001b[1;33m=\u001b[0m \u001b[0mindices\u001b[0m \u001b[1;33m==\u001b[0m \u001b[1;33m-\u001b[0m\u001b[1;36m1\u001b[0m\u001b[1;33m\u001b[0m\u001b[1;33m\u001b[0m\u001b[0m\n\u001b[0;32m   4858\u001b[0m                 \u001b[1;32mif\u001b[0m \u001b[0mcheck\u001b[0m\u001b[1;33m.\u001b[0m\u001b[0many\u001b[0m\u001b[1;33m(\u001b[0m\u001b[1;33m)\u001b[0m\u001b[1;33m:\u001b[0m\u001b[1;33m\u001b[0m\u001b[1;33m\u001b[0m\u001b[0m\n\u001b[1;32m-> 4859\u001b[1;33m                     \u001b[1;32mraise\u001b[0m \u001b[0mKeyError\u001b[0m\u001b[1;33m(\u001b[0m\u001b[0mlist\u001b[0m\u001b[1;33m(\u001b[0m\u001b[0mnp\u001b[0m\u001b[1;33m.\u001b[0m\u001b[0mcompress\u001b[0m\u001b[1;33m(\u001b[0m\u001b[0mcheck\u001b[0m\u001b[1;33m,\u001b[0m \u001b[0msubset\u001b[0m\u001b[1;33m)\u001b[0m\u001b[1;33m)\u001b[0m\u001b[1;33m)\u001b[0m\u001b[1;33m\u001b[0m\u001b[1;33m\u001b[0m\u001b[0m\n\u001b[0m\u001b[0;32m   4860\u001b[0m                 \u001b[0magg_obj\u001b[0m \u001b[1;33m=\u001b[0m \u001b[0mself\u001b[0m\u001b[1;33m.\u001b[0m\u001b[0mtake\u001b[0m\u001b[1;33m(\u001b[0m\u001b[0mindices\u001b[0m\u001b[1;33m,\u001b[0m \u001b[0maxis\u001b[0m\u001b[1;33m=\u001b[0m\u001b[0magg_axis\u001b[0m\u001b[1;33m)\u001b[0m\u001b[1;33m\u001b[0m\u001b[1;33m\u001b[0m\u001b[0m\n\u001b[0;32m   4861\u001b[0m \u001b[1;33m\u001b[0m\u001b[0m\n",
      "\u001b[1;31mKeyError\u001b[0m: ['EDAT']"
     ]
    }
   ],
   "source": [
    "df.dropna(subset=['EDAT'], inplace=True)\n",
    "df[\"Year\"] = (\n",
    "    publication_data[\"EDAT\"].astype(str).str[0:4].astype(int)\n",
    ")"
   ]
  },
  {
   "cell_type": "code",
   "execution_count": null,
   "metadata": {},
   "outputs": [],
   "source": [
    "from itertools import combinations\n",
    "import networkx as nx\n",
    "from nxviz.plots import CircosPlot\n",
    "\n",
    "# Extract author connections\n",
    "authors = df[\"FAU\"].dropna()\n",
    "author_connections = list(\n",
    "    map(lambda x: list(combinations(x[::-1], 2)), authors)\n",
    ")\n",
    "flat_connections = [item for sublist in author_connections for item in sublist]\n",
    "\n",
    "# Create a dataframe with the connections\n",
    "df_c = pd.DataFrame(flat_connections, columns=[\"From\", \"To\"])\n",
    "df_graph = df_c.groupby([\"From\", \"To\"]).size().reset_index()\n",
    "df_graph.columns = [\"From\", \"To\", \"Count\"]\n",
    "\n",
    "\n",
    "G = nx.from_pandas_edgelist(\n",
    "    df_graph, source=\"From\", target=\"To\", edge_attr=\"Count\"\n",
    ")\n",
    "\n",
    "# Limit to TOP 50 authors\n",
    "top50authors = pd.DataFrame.from_records(\n",
    "    Counter(authors_flat).most_common(50), columns=[\"Name\", \"Count\"]\n",
    ")\n",
    "\n",
    "top50_nodes = (n for n in list(G.nodes()) if n in list(top50authors[\"Name\"]))\n",
    "\n",
    "G_50 = G.subgraph(top50_nodes)\n",
    "\n",
    "for n in G_50.nodes():\n",
    "    G_50.nodes[n][\"publications\"] = int(\n",
    "        top50authors[top50authors[\"Name\"] == n][\"Count\"]\n",
    "    )\n",
    "\n",
    "\n",
    "c = CircosPlot(\n",
    "    G_50,\n",
    "    dpi=600,\n",
    "    node_grouping=\"publications\",\n",
    "    edge_width=\"Count\",\n",
    "    figsize=(20, 20),\n",
    "    node_color=\"publications\",\n",
    "    node_labels=True,\n",
    ")\n",
    "c.draw()\n",
    "\n",
    "plt.show()"
   ]
  },
  {
   "cell_type": "code",
   "execution_count": null,
   "metadata": {},
   "outputs": [],
   "source": [
    "authors_flat = df['AU'].value_counts().keys()[:50]"
   ]
  },
  {
   "cell_type": "code",
   "execution_count": null,
   "metadata": {},
   "outputs": [],
   "source": [
    "s = '[\\'Weber RW\\']'\n",
    "print(s[1:-1])"
   ]
  },
  {
   "cell_type": "code",
   "execution_count": null,
   "metadata": {},
   "outputs": [],
   "source": [
    "def cln(x):\n",
    "    return x[1:-1]\n",
    "\n",
    "df['AU_c'] = df['AU'].dropna().apply(cln)"
   ]
  },
  {
   "cell_type": "code",
   "execution_count": null,
   "metadata": {},
   "outputs": [],
   "source": [
    "s = df['AU'].dropna()\n",
    "s= s.apply(cln)"
   ]
  },
  {
   "cell_type": "code",
   "execution_count": null,
   "metadata": {},
   "outputs": [],
   "source": [
    "s"
   ]
  },
  {
   "cell_type": "code",
   "execution_count": null,
   "metadata": {},
   "outputs": [],
   "source": [
    "df['AU'].value_counts().keys()[:50]"
   ]
  },
  {
   "cell_type": "code",
   "execution_count": null,
   "metadata": {},
   "outputs": [],
   "source": [
    "import plotly.graph_objects as go\n",
    "\n",
    "fig =go.Figure(go.Sunburst(\n",
    " ids=[\n",
    "    \"North America\", \"Europe\", \"Australia\", \"North America - Football\", \"Soccer\",\n",
    "    \"North America - Rugby\", \"Europe - Football\", \"Rugby\",\n",
    "    \"Europe - American Football\",\"Australia - Football\", \"Association\",\n",
    "    \"Australian Rules\", \"Autstralia - American Football\", \"Australia - Rugby\",\n",
    "    \"Rugby League\", \"Rugby Union\"\n",
    "  ],\n",
    "  labels= [\n",
    "    \"North<br>America\", \"Europe\", \"Australia\", \"Football\", \"Soccer\", \"Rugby\",\n",
    "    \"Football\", \"Rugby\", \"American<br>Football\", \"Football\", \"Association\",\n",
    "    \"Australian<br>Rules\", \"American<br>Football\", \"Rugby\", \"Rugby<br>League\",\n",
    "    \"Rugby<br>Union\"\n",
    "  ],\n",
    "  parents=[\n",
    "    \"\", \"\", \"\", \"North America\", \"North America\", \"North America\", \"Europe\",\n",
    "    \"Europe\", \"Europe\",\"Australia\", \"Australia - Football\", \"Australia - Football\",\n",
    "    \"Australia - Football\", \"Australia - Football\", \"Australia - Rugby\",\n",
    "    \"Australia - Rugby\"\n",
    "  ],\n",
    "))\n",
    "fig.update_layout(margin = dict(t=0, l=0, r=0, b=0))\n",
    "\n",
    "fig.show()"
   ]
  },
  {
   "cell_type": "code",
   "execution_count": null,
   "metadata": {},
   "outputs": [],
   "source": [
    "top = df['AU'].value_counts().keys()[:10]\n",
    "top"
   ]
  },
  {
   "cell_type": "code",
   "execution_count": null,
   "metadata": {},
   "outputs": [],
   "source": [
    "for x in top:\n",
    "    print(x)\n",
    "    print(df[df['AU'] == x]['TA'])"
   ]
  },
  {
   "cell_type": "markdown",
   "metadata": {},
   "source": [
    "# FSM"
   ]
  },
  {
   "cell_type": "markdown",
   "metadata": {},
   "source": [
    "Our FSM will consist of finding the highest referenced document in our search, and then using content-based recommendation to find 5 other documents that are similar to it in regards to the keyterms of the first document"
   ]
  },
  {
   "cell_type": "code",
   "execution_count": 14,
   "metadata": {},
   "outputs": [
    {
     "name": "stderr",
     "output_type": "stream",
     "text": [
      "Y:\\Users\\awyeh\\anaconda3\\envs\\learn-env\\lib\\site-packages\\pandas\\core\\generic.py:6287: SettingWithCopyWarning: \n",
      "A value is trying to be set on a copy of a slice from a DataFrame\n",
      "\n",
      "See the caveats in the documentation: http://pandas.pydata.org/pandas-docs/stable/user_guide/indexing.html#returning-a-view-versus-a-copy\n",
      "  self._update_inplace(new_data)\n"
     ]
    }
   ],
   "source": [
    "df['RF'].fillna(0, inplace = True)"
   ]
  },
  {
   "cell_type": "code",
   "execution_count": 15,
   "metadata": {},
   "outputs": [
    {
     "data": {
      "text/plain": [
       "0        0\n",
       "1        0\n",
       "2        0\n",
       "3        0\n",
       "4        0\n",
       "        ..\n",
       "15761    0\n",
       "15762    0\n",
       "15763    0\n",
       "15764    0\n",
       "15765    0\n",
       "Name: RF, Length: 15766, dtype: int32"
      ]
     },
     "execution_count": 15,
     "metadata": {},
     "output_type": "execute_result"
    }
   ],
   "source": [
    "df['RF'].astype(int)"
   ]
  },
  {
   "cell_type": "code",
   "execution_count": 16,
   "metadata": {},
   "outputs": [
    {
     "data": {
      "text/plain": [
       "(15276, 34)"
      ]
     },
     "execution_count": 16,
     "metadata": {},
     "output_type": "execute_result"
    }
   ],
   "source": [
    "df[~df['MH'].isna()].shape"
   ]
  },
  {
   "cell_type": "code",
   "execution_count": 17,
   "metadata": {},
   "outputs": [
    {
     "data": {
      "text/plain": [
       "['',\n",
       " 'Humans',\n",
       " ', ',\n",
       " 'Japan',\n",
       " ', ',\n",
       " 'Macrophages',\n",
       " ', ',\n",
       " '*Rhinitis, Allergic',\n",
       " ', ',\n",
       " '*Rhinitis, Allergic, Seasonal',\n",
       " ', ',\n",
       " 'Th1 Cells',\n",
       " ', ',\n",
       " 'Th2 Cells',\n",
       " '']"
      ]
     },
     "execution_count": 17,
     "metadata": {},
     "output_type": "execute_result"
    }
   ],
   "source": [
    "df[~df['MH'].isna()]['MH'][5].strip('][').split('\\'')"
   ]
  },
  {
   "cell_type": "code",
   "execution_count": 18,
   "metadata": {},
   "outputs": [],
   "source": [
    "df_terms = df[~df['MH'].isna() | ~df['OT'].isna()].reset_index(drop = True)\n",
    "df_terms.fillna({'MH': '', 'OT': ''}, inplace = True)"
   ]
  },
  {
   "cell_type": "code",
   "execution_count": 19,
   "metadata": {},
   "outputs": [
    {
     "data": {
      "text/html": [
       "<div>\n",
       "<style scoped>\n",
       "    .dataframe tbody tr th:only-of-type {\n",
       "        vertical-align: middle;\n",
       "    }\n",
       "\n",
       "    .dataframe tbody tr th {\n",
       "        vertical-align: top;\n",
       "    }\n",
       "\n",
       "    .dataframe thead th {\n",
       "        text-align: right;\n",
       "    }\n",
       "</style>\n",
       "<table border=\"1\" class=\"dataframe\">\n",
       "  <thead>\n",
       "    <tr style=\"text-align: right;\">\n",
       "      <th></th>\n",
       "      <th>AB</th>\n",
       "      <th>AD</th>\n",
       "      <th>AID</th>\n",
       "      <th>AU</th>\n",
       "      <th>CI</th>\n",
       "      <th>CIN</th>\n",
       "      <th>DP</th>\n",
       "      <th>FAU</th>\n",
       "      <th>FIR</th>\n",
       "      <th>IP</th>\n",
       "      <th>...</th>\n",
       "      <th>PST</th>\n",
       "      <th>PT</th>\n",
       "      <th>RF</th>\n",
       "      <th>SB</th>\n",
       "      <th>SO</th>\n",
       "      <th>STAT</th>\n",
       "      <th>TA</th>\n",
       "      <th>TI</th>\n",
       "      <th>VI</th>\n",
       "      <th>Year</th>\n",
       "    </tr>\n",
       "  </thead>\n",
       "  <tbody>\n",
       "    <tr>\n",
       "      <th>0</th>\n",
       "      <td>NaN</td>\n",
       "      <td>NaN</td>\n",
       "      <td>['10.15036/arerugi.69.928 [doi]']</td>\n",
       "      <td>NaN</td>\n",
       "      <td>NaN</td>\n",
       "      <td>NaN</td>\n",
       "      <td>2020</td>\n",
       "      <td>NaN</td>\n",
       "      <td>NaN</td>\n",
       "      <td>9</td>\n",
       "      <td>...</td>\n",
       "      <td>ppublish</td>\n",
       "      <td>['Journal Article']</td>\n",
       "      <td>0.0</td>\n",
       "      <td>IM</td>\n",
       "      <td>Arerugi. 2020;69(9):928-929. doi: 10.15036/are...</td>\n",
       "      <td>In-Data-Review</td>\n",
       "      <td>Arerugi</td>\n",
       "      <td>NaN</td>\n",
       "      <td>69</td>\n",
       "      <td>2020</td>\n",
       "    </tr>\n",
       "    <tr>\n",
       "      <th>1</th>\n",
       "      <td>BACKGROUND: Epithelial gene expression in alle...</td>\n",
       "      <td>['Department of Otolaryngology-Head and Neck S...</td>\n",
       "      <td>['000510942 [pii]', '10.1159/000510942 [doi]']</td>\n",
       "      <td>['Wang M', 'She W', 'Yang J', 'Wang X', 'Zhang...</td>\n",
       "      <td>['(c) 2020 S. Karger AG, Basel.']</td>\n",
       "      <td>NaN</td>\n",
       "      <td>2020 Nov 10</td>\n",
       "      <td>['Wang, Min', 'She, Wenyu', 'Yang, Jun', 'Wang...</td>\n",
       "      <td>NaN</td>\n",
       "      <td>NaN</td>\n",
       "      <td>...</td>\n",
       "      <td>aheadofprint</td>\n",
       "      <td>['Journal Article']</td>\n",
       "      <td>0.0</td>\n",
       "      <td>IM</td>\n",
       "      <td>Int Arch Allergy Immunol. 2020 Nov 10:1-10. do...</td>\n",
       "      <td>Publisher</td>\n",
       "      <td>Int Arch Allergy Immunol</td>\n",
       "      <td>Gene Expression Analysis by Real-Time PCR in N...</td>\n",
       "      <td>NaN</td>\n",
       "      <td>2020</td>\n",
       "    </tr>\n",
       "    <tr>\n",
       "      <th>2</th>\n",
       "      <td>BACKGROUND: Allergen-specific immunotherapy (A...</td>\n",
       "      <td>['Immunomodulation and Tolerance Group, Allerg...</td>\n",
       "      <td>['S0091-6749(20)31561-X [pii]', '10.1016/j.jac...</td>\n",
       "      <td>['Sharif H', 'Acharya S', 'Dhondalay GKR', 'Va...</td>\n",
       "      <td>['Copyright (c) 2020. Published by Elsevier In...</td>\n",
       "      <td>NaN</td>\n",
       "      <td>2020 Nov 5</td>\n",
       "      <td>['Sharif, Hanisah', 'Acharya, Swati', 'Dhondal...</td>\n",
       "      <td>NaN</td>\n",
       "      <td>NaN</td>\n",
       "      <td>...</td>\n",
       "      <td>aheadofprint</td>\n",
       "      <td>['Journal Article']</td>\n",
       "      <td>0.0</td>\n",
       "      <td>AIM IM</td>\n",
       "      <td>J Allergy Clin Immunol. 2020 Nov 5. pii: S0091...</td>\n",
       "      <td>Publisher</td>\n",
       "      <td>J Allergy Clin Immunol</td>\n",
       "      <td>Grass pollen immunotherapy alters chromatin la...</td>\n",
       "      <td>NaN</td>\n",
       "      <td>2020</td>\n",
       "    </tr>\n",
       "    <tr>\n",
       "      <th>3</th>\n",
       "      <td>BACKGROUND: Local tissue eosinophilia and Th2-...</td>\n",
       "      <td>['Allergy and Clinical Immunology, National He...</td>\n",
       "      <td>['10.1111/cea.13775 [doi]']</td>\n",
       "      <td>['Orban N', 'Jacobson MR', 'Nouri-Aria KT', 'D...</td>\n",
       "      <td>['This article is protected by copyright. All ...</td>\n",
       "      <td>NaN</td>\n",
       "      <td>2020 Nov 3</td>\n",
       "      <td>['Orban, Nara', 'Jacobson, Mikila R', 'Nouri-A...</td>\n",
       "      <td>NaN</td>\n",
       "      <td>NaN</td>\n",
       "      <td>...</td>\n",
       "      <td>aheadofprint</td>\n",
       "      <td>['Journal Article']</td>\n",
       "      <td>0.0</td>\n",
       "      <td>IM</td>\n",
       "      <td>Clin Exp Allergy. 2020 Nov 3. doi: 10.1111/cea...</td>\n",
       "      <td>Publisher</td>\n",
       "      <td>Clin Exp Allergy</td>\n",
       "      <td>Repetitive nasal allergen challenge in allergi...</td>\n",
       "      <td>NaN</td>\n",
       "      <td>2020</td>\n",
       "    </tr>\n",
       "    <tr>\n",
       "      <th>4</th>\n",
       "      <td>NaN</td>\n",
       "      <td>['Department of Otorhinolaryngology Careggi Un...</td>\n",
       "      <td>['10.1002/lio2.459 [doi]', 'LIO2459 [pii]']</td>\n",
       "      <td>['Gallo O', 'Bruno C', 'Orlando P', 'Locatello...</td>\n",
       "      <td>NaN</td>\n",
       "      <td>NaN</td>\n",
       "      <td>2020 Oct</td>\n",
       "      <td>['Gallo, Oreste', 'Bruno, Chiara', 'Orlando, P...</td>\n",
       "      <td>NaN</td>\n",
       "      <td>5</td>\n",
       "      <td>...</td>\n",
       "      <td>epublish</td>\n",
       "      <td>['Journal Article']</td>\n",
       "      <td>0.0</td>\n",
       "      <td>NaN</td>\n",
       "      <td>Laryngoscope Investig Otolaryngol. 2020 Sep 11...</td>\n",
       "      <td>PubMed-not-MEDLINE</td>\n",
       "      <td>Laryngoscope Investig Otolaryngol</td>\n",
       "      <td>The impact of lockdown on allergic rhinitis: W...</td>\n",
       "      <td>5</td>\n",
       "      <td>2020</td>\n",
       "    </tr>\n",
       "  </tbody>\n",
       "</table>\n",
       "<p>5 rows × 34 columns</p>\n",
       "</div>"
      ],
      "text/plain": [
       "                                                  AB  \\\n",
       "0                                                NaN   \n",
       "1  BACKGROUND: Epithelial gene expression in alle...   \n",
       "2  BACKGROUND: Allergen-specific immunotherapy (A...   \n",
       "3  BACKGROUND: Local tissue eosinophilia and Th2-...   \n",
       "4                                                NaN   \n",
       "\n",
       "                                                  AD  \\\n",
       "0                                                NaN   \n",
       "1  ['Department of Otolaryngology-Head and Neck S...   \n",
       "2  ['Immunomodulation and Tolerance Group, Allerg...   \n",
       "3  ['Allergy and Clinical Immunology, National He...   \n",
       "4  ['Department of Otorhinolaryngology Careggi Un...   \n",
       "\n",
       "                                                 AID  \\\n",
       "0                  ['10.15036/arerugi.69.928 [doi]']   \n",
       "1     ['000510942 [pii]', '10.1159/000510942 [doi]']   \n",
       "2  ['S0091-6749(20)31561-X [pii]', '10.1016/j.jac...   \n",
       "3                        ['10.1111/cea.13775 [doi]']   \n",
       "4        ['10.1002/lio2.459 [doi]', 'LIO2459 [pii]']   \n",
       "\n",
       "                                                  AU  \\\n",
       "0                                                NaN   \n",
       "1  ['Wang M', 'She W', 'Yang J', 'Wang X', 'Zhang...   \n",
       "2  ['Sharif H', 'Acharya S', 'Dhondalay GKR', 'Va...   \n",
       "3  ['Orban N', 'Jacobson MR', 'Nouri-Aria KT', 'D...   \n",
       "4  ['Gallo O', 'Bruno C', 'Orlando P', 'Locatello...   \n",
       "\n",
       "                                                  CI  CIN           DP  \\\n",
       "0                                                NaN  NaN         2020   \n",
       "1                  ['(c) 2020 S. Karger AG, Basel.']  NaN  2020 Nov 10   \n",
       "2  ['Copyright (c) 2020. Published by Elsevier In...  NaN   2020 Nov 5   \n",
       "3  ['This article is protected by copyright. All ...  NaN   2020 Nov 3   \n",
       "4                                                NaN  NaN     2020 Oct   \n",
       "\n",
       "                                                 FAU  FIR   IP  ...  \\\n",
       "0                                                NaN  NaN    9  ...   \n",
       "1  ['Wang, Min', 'She, Wenyu', 'Yang, Jun', 'Wang...  NaN  NaN  ...   \n",
       "2  ['Sharif, Hanisah', 'Acharya, Swati', 'Dhondal...  NaN  NaN  ...   \n",
       "3  ['Orban, Nara', 'Jacobson, Mikila R', 'Nouri-A...  NaN  NaN  ...   \n",
       "4  ['Gallo, Oreste', 'Bruno, Chiara', 'Orlando, P...  NaN    5  ...   \n",
       "\n",
       "            PST                   PT   RF      SB  \\\n",
       "0      ppublish  ['Journal Article']  0.0      IM   \n",
       "1  aheadofprint  ['Journal Article']  0.0      IM   \n",
       "2  aheadofprint  ['Journal Article']  0.0  AIM IM   \n",
       "3  aheadofprint  ['Journal Article']  0.0      IM   \n",
       "4      epublish  ['Journal Article']  0.0     NaN   \n",
       "\n",
       "                                                  SO                STAT  \\\n",
       "0  Arerugi. 2020;69(9):928-929. doi: 10.15036/are...      In-Data-Review   \n",
       "1  Int Arch Allergy Immunol. 2020 Nov 10:1-10. do...           Publisher   \n",
       "2  J Allergy Clin Immunol. 2020 Nov 5. pii: S0091...           Publisher   \n",
       "3  Clin Exp Allergy. 2020 Nov 3. doi: 10.1111/cea...           Publisher   \n",
       "4  Laryngoscope Investig Otolaryngol. 2020 Sep 11...  PubMed-not-MEDLINE   \n",
       "\n",
       "                                  TA  \\\n",
       "0                            Arerugi   \n",
       "1           Int Arch Allergy Immunol   \n",
       "2             J Allergy Clin Immunol   \n",
       "3                   Clin Exp Allergy   \n",
       "4  Laryngoscope Investig Otolaryngol   \n",
       "\n",
       "                                                  TI   VI  Year  \n",
       "0                                                NaN   69  2020  \n",
       "1  Gene Expression Analysis by Real-Time PCR in N...  NaN  2020  \n",
       "2  Grass pollen immunotherapy alters chromatin la...  NaN  2020  \n",
       "3  Repetitive nasal allergen challenge in allergi...  NaN  2020  \n",
       "4  The impact of lockdown on allergic rhinitis: W...    5  2020  \n",
       "\n",
       "[5 rows x 34 columns]"
      ]
     },
     "execution_count": 19,
     "metadata": {},
     "output_type": "execute_result"
    }
   ],
   "source": [
    "df_terms.head()"
   ]
  },
  {
   "cell_type": "code",
   "execution_count": 59,
   "metadata": {},
   "outputs": [],
   "source": [
    "def clean_terms(x):\n",
    "    punctuation = '*&,'\n",
    "    s = x.strip('][').split('\\,')\n",
    "    s = [w for w in s if w != ', ']\n",
    "    s = [w for w in s if w != '']\n",
    "    s = [w.lower() for w in s]\n",
    "    s = [w.translate(w.maketrans('', '', punctuation)) for w in s]\n",
    "    return ' '.join(s)"
   ]
  },
  {
   "cell_type": "code",
   "execution_count": 60,
   "metadata": {},
   "outputs": [],
   "source": [
    "df_terms['mh_t'] = df_terms['MH'].apply(clean_terms)\n",
    "df_terms['ot_t'] = df_terms['OT'].apply(clean_terms)\n",
    "df_terms['terms'] = df_terms['mh_t'] + ' ' + df_terms['ot_t']"
   ]
  },
  {
   "cell_type": "code",
   "execution_count": 61,
   "metadata": {},
   "outputs": [
    {
     "data": {
      "text/plain": [
       "0        ['Adolescent', 'Asthma/epidemiology/*etiology/...\n",
       "1        ['Administration, Intranasal', 'Adult', 'Beclo...\n",
       "2        ['Asthma/diagnosis/*etiology/therapy', 'Diagno...\n",
       "3        ['Adult', 'Animals', 'Asthma/drug therapy/*phy...\n",
       "4        ['Allergens', 'Animals', 'Dermatitis, Occupati...\n",
       "                               ...                        \n",
       "15538    ['Adult', 'Asthma/epidemiology/genetics/immuno...\n",
       "15539    ['Adolescent', 'Adult', 'Child', 'Female', 'Hu...\n",
       "15540    ['Adult', 'Drug Administration Schedule', 'Enz...\n",
       "15541    ['Asthma/*genetics', 'Chromosome Mapping', '*C...\n",
       "15542    ['*Ambrosia', '*Anaphylaxis', '*Antigens', '*B...\n",
       "Name: MH, Length: 15543, dtype: object"
      ]
     },
     "execution_count": 61,
     "metadata": {},
     "output_type": "execute_result"
    }
   ],
   "source": [
    "df_terms['MH']"
   ]
  },
  {
   "cell_type": "code",
   "execution_count": 62,
   "metadata": {},
   "outputs": [
    {
     "data": {
      "text/plain": [
       "0        adolescent asthma/epidemiology/etiology/therap...\n",
       "1        administration, intranasal adult beclomethason...\n",
       "2        asthma/diagnosis/etiology/therapy diagnosis, d...\n",
       "3        adult animals asthma/drug therapy/physiopathol...\n",
       "4        allergens animals dermatitis, occupational foo...\n",
       "                               ...                        \n",
       "15538    adult asthma/epidemiology/genetics/immunology ...\n",
       "15539    adolescent adult child female humans male midd...\n",
       "15540    adult drug administration schedule enzyme-link...\n",
       "15541    asthma/genetics chromosome mapping chromosomes...\n",
       "15542    ambrosia anaphylaxis antigens biometry hyperse...\n",
       "Name: mh_t, Length: 15543, dtype: object"
      ]
     },
     "execution_count": 62,
     "metadata": {},
     "output_type": "execute_result"
    }
   ],
   "source": [
    "df_terms['mh_t']"
   ]
  },
  {
   "cell_type": "code",
   "execution_count": 83,
   "metadata": {},
   "outputs": [
    {
     "data": {
      "text/plain": [
       "5        ['Humans', 'Japan', 'Macrophages', '*Rhinitis,...\n",
       "25       ['*Allergens', 'Betula', 'Cities', 'Humans', '...\n",
       "28       ['*Air Pollutants', '*Air Pollution', 'Child',...\n",
       "36       ['Allergens', 'Australia', 'Cities', '*Poaceae...\n",
       "46       ['Allergens/*administration & dosage/immunolog...\n",
       "                               ...                        \n",
       "15670    ['Anaphylaxis/*therapy', 'Asthma/*therapy', 'D...\n",
       "15671    ['*Allergens', '*Biometry', 'Humans', '*Pollen...\n",
       "15672    ['*Allergens', '*Biometry', 'Humans', '*Pollen...\n",
       "15673    ['*Conjunctiva', 'Humans', '*Immunity', '*Rhin...\n",
       "15674    ['*Ambrosia', '*Anaphylaxis', '*Antigens', '*B...\n",
       "Name: MH, Length: 15276, dtype: object"
      ]
     },
     "execution_count": 83,
     "metadata": {},
     "output_type": "execute_result"
    }
   ],
   "source": [
    "df['MH'].dropna()"
   ]
  },
  {
   "cell_type": "code",
   "execution_count": 22,
   "metadata": {},
   "outputs": [
    {
     "data": {
      "text/plain": [
       "'ambrosia anaphylaxis antigens biometry hypersensitivity immune system diseases rhinitis, allergic, seasonal/epidemiology/statistics  numerical data anaphylaxis and allergy hay fever/epidemiology and statistics'"
      ]
     },
     "execution_count": 22,
     "metadata": {},
     "output_type": "execute_result"
    }
   ],
   "source": [
    "df_terms['terms'][15542]"
   ]
  },
  {
   "cell_type": "code",
   "execution_count": 23,
   "metadata": {},
   "outputs": [],
   "source": [
    "df_terms = df_terms.sort_values(by = 'RF', ascending = False).reset_index(drop = True)"
   ]
  },
  {
   "cell_type": "code",
   "execution_count": 24,
   "metadata": {},
   "outputs": [],
   "source": [
    "best = df_terms.head(1)"
   ]
  },
  {
   "cell_type": "code",
   "execution_count": 48,
   "metadata": {},
   "outputs": [
    {
     "data": {
      "text/plain": [
       "0        adolescent asthma/epidemiology/etiology/therap...\n",
       "1        administration, intranasal adult beclomethason...\n",
       "2        asthma/diagnosis/etiology/therapy diagnosis, d...\n",
       "3        adult animals asthma/drug therapy/physiopathol...\n",
       "4        allergens animals dermatitis, occupational foo...\n",
       "                               ...                        \n",
       "15538    adult asthma/epidemiology/genetics/immunology ...\n",
       "15539    adolescent adult child female humans male midd...\n",
       "15540    adult drug administration schedule enzyme-link...\n",
       "15541    asthma/genetics chromosome mapping chromosomes...\n",
       "15542    ambrosia anaphylaxis antigens biometry hyperse...\n",
       "Name: terms, Length: 15543, dtype: object"
      ]
     },
     "execution_count": 48,
     "metadata": {},
     "output_type": "execute_result"
    }
   ],
   "source": [
    "df_terms['terms']"
   ]
  },
  {
   "cell_type": "code",
   "execution_count": 25,
   "metadata": {},
   "outputs": [
    {
     "data": {
      "text/plain": [
       "['Allergic Rhinitis and its Impact on Asthma (ARIA) 2008 update (in collaboration with the World Health Organization, GA(2)LEN and AllerGen).']"
      ]
     },
     "execution_count": 25,
     "metadata": {},
     "output_type": "execute_result"
    }
   ],
   "source": [
    "list(best['TI'])"
   ]
  },
  {
   "cell_type": "markdown",
   "metadata": {},
   "source": [
    "# Using tfidf to find cosine similarities and recommend extra articles"
   ]
  },
  {
   "cell_type": "code",
   "execution_count": 41,
   "metadata": {},
   "outputs": [],
   "source": [
    "tfidf = TfidfVectorizer()\n",
    "X_tf = tfidf.fit_transform(df_terms['terms'])\n",
    "X_tf = pd.DataFrame.sparse.from_spmatrix(X_tf)\n",
    "X_tf.columns = sorted(tfidf.vocabulary_)\n",
    "X_tf = X_tf.to_numpy()"
   ]
  },
  {
   "cell_type": "code",
   "execution_count": 42,
   "metadata": {},
   "outputs": [],
   "source": [
    "numerators = np.array([X_tf[0].dot(i) for i in X_tf[1:]])\n",
    "denominators = np.array([np.sqrt(sum(X_tf[0]**2)) *\\\n",
    "                         np.sqrt(sum(i**2)) for i in X_tf[1:]])\n",
    "\n",
    "results_tf = numerators / denominators"
   ]
  },
  {
   "cell_type": "markdown",
   "metadata": {},
   "source": [
    "Results will be found by finding the 5 highest cosine similarities, and the matching them to the correct index"
   ]
  },
  {
   "cell_type": "code",
   "execution_count": 43,
   "metadata": {},
   "outputs": [
    {
     "name": "stdout",
     "output_type": "stream",
     "text": [
      "[14582   193 12710  8268]\n",
      "[0.58140883 0.58852247 0.64361962 0.67762201]\n",
      "['We and our pets: allergic together?', 'Allergic rhinitis, histamine, and otitis media.', 'Ocular, nasal, dermal and respiratory symptoms in relation to heating, ventilation, energy conservation, and reconstruction of older multi-family houses.', 'Influence of treatment with intranasal corticosteroids on the nasal mucosa, weight, and corticosteroid concentration in rats.']\n"
     ]
    }
   ],
   "source": [
    "ind = np.argpartition(results, -4)[-4:]\n",
    "print(ind)\n",
    "print(results[ind])\n",
    "print(list(df_terms.iloc[ind]['TI']))"
   ]
  },
  {
   "cell_type": "markdown",
   "metadata": {},
   "source": [
    "# Using count vectorizer to find cosine similarities and recommend extra articles"
   ]
  },
  {
   "cell_type": "code",
   "execution_count": 45,
   "metadata": {},
   "outputs": [],
   "source": [
    "cv = CountVectorizer()\n",
    "X_cv = cv.fit_transform(df_terms['terms'])\n",
    "X_cv = pd.DataFrame.sparse.from_spmatrix(X_cv)\n",
    "X_cv.columns = sorted(cv.vocabulary_)\n",
    "X_cv = X_cv.to_numpy()"
   ]
  },
  {
   "cell_type": "code",
   "execution_count": null,
   "metadata": {},
   "outputs": [],
   "source": [
    "numerators = np.array([X_cv[0].dot(i) for i in X_cv[1:]])\n",
    "denominators = np.array([np.sqrt(sum(X_cv[0]**2)) *\\\n",
    "                         np.sqrt(sum(i**2)) for i in X_cv[1:]])\n",
    "\n",
    "results_cv = numerators / denominators"
   ]
  },
  {
   "cell_type": "markdown",
   "metadata": {},
   "source": [
    "Results will be found by finding the 5 highest cosine similarities, and the matching them to the correct index"
   ]
  },
  {
   "cell_type": "code",
   "execution_count": 39,
   "metadata": {},
   "outputs": [
    {
     "name": "stdout",
     "output_type": "stream",
     "text": [
      "[14582 15468   193   164]\n",
      "[0.75300747 0.75740971 0.76015205 0.7970534 ]\n",
      "['We and our pets: allergic together?', 'International Primary Care Respiratory Group (IPCRG) Guidelines: management of allergic rhinitis.', 'Allergic rhinitis, histamine, and otitis media.', 'Respiratory and allergic disease. I.']\n"
     ]
    }
   ],
   "source": [
    "ind = np.argpartition(results, -4)[-4:]\n",
    "print(ind)\n",
    "print(results[ind])\n",
    "print(list(df_terms.iloc[ind]['TI']))"
   ]
  },
  {
   "cell_type": "markdown",
   "metadata": {},
   "source": [
    "# Using logistic regression"
   ]
  },
  {
   "cell_type": "code",
   "execution_count": 94,
   "metadata": {},
   "outputs": [
    {
     "data": {
      "text/plain": [
       "<matplotlib.axes._subplots.AxesSubplot at 0x20c81c8a780>"
      ]
     },
     "execution_count": 94,
     "metadata": {},
     "output_type": "execute_result"
    },
    {
     "data": {
      "image/png": "[encoded data removed]",
      "text/plain": [
       "<Figure size 432x288 with 1 Axes>"
      ]
     },
     "metadata": {},
     "output_type": "display_data"
    }
   ],
   "source": [
    "sns.boxplot(x = df_base['RF'].dropna())"
   ]
  },
  {
   "cell_type": "code",
   "execution_count": 95,
   "metadata": {},
   "outputs": [
    {
     "data": {
      "text/plain": [
       "count    1330.000000\n",
       "mean       55.737594\n",
       "std        82.043939\n",
       "min         0.000000\n",
       "25%        24.000000\n",
       "50%        42.000000\n",
       "75%        65.000000\n",
       "max      2241.000000\n",
       "Name: RF, dtype: float64"
      ]
     },
     "execution_count": 95,
     "metadata": {},
     "output_type": "execute_result"
    }
   ],
   "source": [
    "df_base['RF'].dropna().describe()"
   ]
  },
  {
   "cell_type": "code",
   "execution_count": 101,
   "metadata": {},
   "outputs": [],
   "source": [
    "df_rf = df_base[~df_base['RF'].isna()].reset_index(drop = True)\n",
    "df_no_rf = df_base[df_base['RF'].isna()].reset_index(drop = True)"
   ]
  },
  {
   "cell_type": "code",
   "execution_count": 104,
   "metadata": {},
   "outputs": [
    {
     "data": {
      "text/plain": [
       "(1330, 78)"
      ]
     },
     "execution_count": 104,
     "metadata": {},
     "output_type": "execute_result"
    }
   ],
   "source": [
    "df_rf.shape"
   ]
  },
  {
   "cell_type": "code",
   "execution_count": 105,
   "metadata": {},
   "outputs": [
    {
     "data": {
      "text/plain": [
       "(14436, 78)"
      ]
     },
     "execution_count": 105,
     "metadata": {},
     "output_type": "execute_result"
    }
   ],
   "source": [
    "df_no_rf.shape"
   ]
  },
  {
   "cell_type": "code",
   "execution_count": null,
   "metadata": {},
   "outputs": [],
   "source": []
  }
 ],
 "metadata": {
  "kernelspec": {
   "display_name": "learn-env",
   "language": "python",
   "name": "learn-env"
  },
  "language_info": {
   "codemirror_mode": {
    "name": "ipython",
    "version": 3
   },
   "file_extension": ".py",
   "mimetype": "text/x-python",
   "name": "python",
   "nbconvert_exporter": "python",
   "pygments_lexer": "ipython3",
   "version": "3.6.9"
  }
 },
 "nbformat": 4,
 "nbformat_minor": 4
}
